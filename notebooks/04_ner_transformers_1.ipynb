{
 "cells": [
  {
   "cell_type": "markdown",
   "metadata": {},
   "source": [
    "# This Notebook was run on Paperspace Gradient \n",
    "\n",
    "**The GPU used to run this notebook is Nvidia Quadro RTX5000**"
   ]
  },
  {
   "cell_type": "code",
   "execution_count": null,
   "metadata": {
    "execution": {
     "iopub.execute_input": "2022-08-06T16:50:30.970618Z",
     "iopub.status.busy": "2022-08-06T16:50:30.969423Z"
    }
   },
   "outputs": [
    {
     "name": "stdout",
     "output_type": "stream",
     "text": [
      "nvcc: NVIDIA (R) Cuda compiler driver\n",
      "Copyright (c) 2005-2021 NVIDIA Corporation\n",
      "Built on Sun_Feb_14_21:12:58_PST_2021\n",
      "Cuda compilation tools, release 11.2, V11.2.152\n",
      "Build cuda_11.2.r11.2/compiler.29618528_0\n"
     ]
    }
   ],
   "source": [
    "#CUDA version check. Here its 11.2\n",
    "!nvcc --version"
   ]
  },
  {
   "cell_type": "code",
   "execution_count": 19,
   "metadata": {
    "execution": {
     "iopub.execute_input": "2022-08-06T18:20:48.382717Z",
     "iopub.status.busy": "2022-08-06T18:20:48.382236Z",
     "iopub.status.idle": "2022-08-06T18:20:49.119819Z",
     "shell.execute_reply": "2022-08-06T18:20:49.118672Z",
     "shell.execute_reply.started": "2022-08-06T18:20:48.382679Z"
    }
   },
   "outputs": [
    {
     "name": "stdout",
     "output_type": "stream",
     "text": [
      "Sat Aug  6 18:20:48 2022       \n",
      "+-----------------------------------------------------------------------------+\n",
      "| NVIDIA-SMI 460.91.03    Driver Version: 460.91.03    CUDA Version: 11.2     |\n",
      "|-------------------------------+----------------------+----------------------+\n",
      "| GPU  Name        Persistence-M| Bus-Id        Disp.A | Volatile Uncorr. ECC |\n",
      "| Fan  Temp  Perf  Pwr:Usage/Cap|         Memory-Usage | GPU-Util  Compute M. |\n",
      "|                               |                      |               MIG M. |\n",
      "|===============================+======================+======================|\n",
      "|   0  Quadro RTX 5000     Off  | 00000000:00:05.0 Off |                  Off |\n",
      "| 33%   25C    P8    11W / 230W |      3MiB / 16125MiB |      0%      Default |\n",
      "|                               |                      |                  N/A |\n",
      "+-------------------------------+----------------------+----------------------+\n",
      "                                                                               \n",
      "+-----------------------------------------------------------------------------+\n",
      "| Processes:                                                                  |\n",
      "|  GPU   GI   CI        PID   Type   Process name                  GPU Memory |\n",
      "|        ID   ID                                                   Usage      |\n",
      "|=============================================================================|\n",
      "|  No running processes found                                                 |\n",
      "+-----------------------------------------------------------------------------+\n"
     ]
    }
   ],
   "source": [
    "#Check GPU Type & Specs\n",
    "!nvidia-smi"
   ]
  },
  {
   "cell_type": "markdown",
   "metadata": {
    "id": "bccf2962"
   },
   "source": [
    "# Tools & Models Installation"
   ]
  },
  {
   "cell_type": "code",
   "execution_count": 3,
   "metadata": {
    "execution": {
     "iopub.execute_input": "2022-08-06T16:30:34.264971Z",
     "iopub.status.busy": "2022-08-06T16:30:34.264618Z",
     "iopub.status.idle": "2022-08-06T16:30:46.347076Z",
     "shell.execute_reply": "2022-08-06T16:30:46.345989Z",
     "shell.execute_reply.started": "2022-08-06T16:30:34.264940Z"
    },
    "scrolled": true
   },
   "outputs": [
    {
     "name": "stdout",
     "output_type": "stream",
     "text": [
      "Requirement already satisfied: spacy[cuda112,transformers] in /usr/local/lib/python3.9/dist-packages (3.4.1)\n",
      "Requirement already satisfied: spacy-legacy<3.1.0,>=3.0.9 in /usr/local/lib/python3.9/dist-packages (from spacy[cuda112,transformers]) (3.0.9)\n",
      "Requirement already satisfied: spacy-loggers<2.0.0,>=1.0.0 in /usr/local/lib/python3.9/dist-packages (from spacy[cuda112,transformers]) (1.0.2)\n",
      "Requirement already satisfied: numpy>=1.15.0 in /usr/local/lib/python3.9/dist-packages (from spacy[cuda112,transformers]) (1.23.1)\n",
      "Requirement already satisfied: langcodes<4.0.0,>=3.2.0 in /usr/local/lib/python3.9/dist-packages (from spacy[cuda112,transformers]) (3.3.0)\n",
      "Requirement already satisfied: cymem<2.1.0,>=2.0.2 in /usr/local/lib/python3.9/dist-packages (from spacy[cuda112,transformers]) (2.0.6)\n",
      "Requirement already satisfied: pydantic!=1.8,!=1.8.1,<1.10.0,>=1.7.4 in /usr/local/lib/python3.9/dist-packages (from spacy[cuda112,transformers]) (1.9.1)\n",
      "Requirement already satisfied: murmurhash<1.1.0,>=0.28.0 in /usr/local/lib/python3.9/dist-packages (from spacy[cuda112,transformers]) (1.0.7)\n",
      "Requirement already satisfied: srsly<3.0.0,>=2.4.3 in /usr/local/lib/python3.9/dist-packages (from spacy[cuda112,transformers]) (2.4.3)\n",
      "Requirement already satisfied: thinc<8.2.0,>=8.1.0 in /usr/local/lib/python3.9/dist-packages (from spacy[cuda112,transformers]) (8.1.0)\n",
      "Requirement already satisfied: typer<0.5.0,>=0.3.0 in /usr/local/lib/python3.9/dist-packages (from spacy[cuda112,transformers]) (0.4.2)\n",
      "Requirement already satisfied: wasabi<1.1.0,>=0.9.1 in /usr/local/lib/python3.9/dist-packages (from spacy[cuda112,transformers]) (0.9.1)\n",
      "Requirement already satisfied: pathy>=0.3.5 in /usr/local/lib/python3.9/dist-packages (from spacy[cuda112,transformers]) (0.6.2)\n",
      "Requirement already satisfied: setuptools in /usr/local/lib/python3.9/dist-packages (from spacy[cuda112,transformers]) (63.1.0)\n",
      "Requirement already satisfied: requests<3.0.0,>=2.13.0 in /usr/local/lib/python3.9/dist-packages (from spacy[cuda112,transformers]) (2.28.1)\n",
      "Requirement already satisfied: catalogue<2.1.0,>=2.0.6 in /usr/local/lib/python3.9/dist-packages (from spacy[cuda112,transformers]) (2.0.7)\n",
      "Requirement already satisfied: jinja2 in /usr/local/lib/python3.9/dist-packages (from spacy[cuda112,transformers]) (3.1.2)\n",
      "Requirement already satisfied: preshed<3.1.0,>=3.0.2 in /usr/local/lib/python3.9/dist-packages (from spacy[cuda112,transformers]) (3.0.6)\n",
      "Requirement already satisfied: packaging>=20.0 in /usr/local/lib/python3.9/dist-packages (from spacy[cuda112,transformers]) (21.3)\n",
      "Requirement already satisfied: tqdm<5.0.0,>=4.38.0 in /usr/local/lib/python3.9/dist-packages (from spacy[cuda112,transformers]) (4.64.0)\n",
      "Requirement already satisfied: spacy-transformers<1.2.0,>=1.1.2 in /usr/local/lib/python3.9/dist-packages (from spacy[cuda112,transformers]) (1.1.7)\n",
      "Requirement already satisfied: cupy-cuda112<11.0.0,>=5.0.0b4 in /usr/local/lib/python3.9/dist-packages (from spacy[cuda112,transformers]) (10.6.0)\n",
      "Requirement already satisfied: fastrlock>=0.5 in /usr/local/lib/python3.9/dist-packages (from cupy-cuda112<11.0.0,>=5.0.0b4->spacy[cuda112,transformers]) (0.8)\n",
      "Requirement already satisfied: pyparsing!=3.0.5,>=2.0.2 in /usr/local/lib/python3.9/dist-packages (from packaging>=20.0->spacy[cuda112,transformers]) (3.0.9)\n",
      "Requirement already satisfied: smart-open<6.0.0,>=5.2.1 in /usr/local/lib/python3.9/dist-packages (from pathy>=0.3.5->spacy[cuda112,transformers]) (5.2.1)\n",
      "Requirement already satisfied: typing-extensions>=3.7.4.3 in /usr/local/lib/python3.9/dist-packages (from pydantic!=1.8,!=1.8.1,<1.10.0,>=1.7.4->spacy[cuda112,transformers]) (4.3.0)\n",
      "Requirement already satisfied: charset-normalizer<3,>=2 in /usr/local/lib/python3.9/dist-packages (from requests<3.0.0,>=2.13.0->spacy[cuda112,transformers]) (2.1.0)\n",
      "Requirement already satisfied: urllib3<1.27,>=1.21.1 in /usr/local/lib/python3.9/dist-packages (from requests<3.0.0,>=2.13.0->spacy[cuda112,transformers]) (1.26.10)\n",
      "Requirement already satisfied: idna<4,>=2.5 in /usr/lib/python3/dist-packages (from requests<3.0.0,>=2.13.0->spacy[cuda112,transformers]) (2.8)\n",
      "Requirement already satisfied: certifi>=2017.4.17 in /usr/lib/python3/dist-packages (from requests<3.0.0,>=2.13.0->spacy[cuda112,transformers]) (2019.11.28)\n",
      "Requirement already satisfied: torch>=1.6.0 in /usr/local/lib/python3.9/dist-packages (from spacy-transformers<1.2.0,>=1.1.2->spacy[cuda112,transformers]) (1.10.1+cu111)\n",
      "Requirement already satisfied: transformers<4.21.0,>=3.4.0 in /usr/local/lib/python3.9/dist-packages (from spacy-transformers<1.2.0,>=1.1.2->spacy[cuda112,transformers]) (4.20.1)\n",
      "Requirement already satisfied: spacy-alignments<1.0.0,>=0.7.2 in /usr/local/lib/python3.9/dist-packages (from spacy-transformers<1.2.0,>=1.1.2->spacy[cuda112,transformers]) (0.8.5)\n",
      "Requirement already satisfied: blis<0.8.0,>=0.7.8 in /usr/local/lib/python3.9/dist-packages (from thinc<8.2.0,>=8.1.0->spacy[cuda112,transformers]) (0.7.8)\n",
      "Requirement already satisfied: click<9.0.0,>=7.1.1 in /usr/local/lib/python3.9/dist-packages (from typer<0.5.0,>=0.3.0->spacy[cuda112,transformers]) (8.1.3)\n",
      "Requirement already satisfied: MarkupSafe>=2.0 in /usr/local/lib/python3.9/dist-packages (from jinja2->spacy[cuda112,transformers]) (2.1.1)\n",
      "Requirement already satisfied: filelock in /usr/local/lib/python3.9/dist-packages (from transformers<4.21.0,>=3.4.0->spacy-transformers<1.2.0,>=1.1.2->spacy[cuda112,transformers]) (3.7.1)\n",
      "Requirement already satisfied: huggingface-hub<1.0,>=0.1.0 in /usr/local/lib/python3.9/dist-packages (from transformers<4.21.0,>=3.4.0->spacy-transformers<1.2.0,>=1.1.2->spacy[cuda112,transformers]) (0.8.1)\n",
      "Requirement already satisfied: pyyaml>=5.1 in /usr/local/lib/python3.9/dist-packages (from transformers<4.21.0,>=3.4.0->spacy-transformers<1.2.0,>=1.1.2->spacy[cuda112,transformers]) (5.4.1)\n",
      "Requirement already satisfied: regex!=2019.12.17 in /usr/local/lib/python3.9/dist-packages (from transformers<4.21.0,>=3.4.0->spacy-transformers<1.2.0,>=1.1.2->spacy[cuda112,transformers]) (2022.7.9)\n",
      "Requirement already satisfied: tokenizers!=0.11.3,<0.13,>=0.11.1 in /usr/local/lib/python3.9/dist-packages (from transformers<4.21.0,>=3.4.0->spacy-transformers<1.2.0,>=1.1.2->spacy[cuda112,transformers]) (0.12.1)\n",
      "\u001b[33mWARNING: Running pip as the 'root' user can result in broken permissions and conflicting behaviour with the system package manager. It is recommended to use a virtual environment instead: https://pip.pypa.io/warnings/venv\u001b[0m\u001b[33m\n",
      "\u001b[0m"
     ]
    }
   ],
   "source": [
    "#Install spaCy for CUDA 11.3 & CUPY compatible version\n",
    "!pip install -U spacy[cuda112,transformers]"
   ]
  },
  {
   "cell_type": "code",
   "execution_count": 4,
   "metadata": {
    "colab": {
     "base_uri": "https://localhost:8080/"
    },
    "execution": {
     "iopub.execute_input": "2022-08-06T16:30:46.349372Z",
     "iopub.status.busy": "2022-08-06T16:30:46.349094Z",
     "iopub.status.idle": "2022-08-06T16:31:31.920475Z",
     "shell.execute_reply": "2022-08-06T16:31:31.919777Z",
     "shell.execute_reply.started": "2022-08-06T16:30:46.349347Z"
    },
    "id": "9365683f",
    "outputId": "1cbbfbdf-fe42-4227-954a-b35de94a459b",
    "scrolled": true
   },
   "outputs": [
    {
     "name": "stdout",
     "output_type": "stream",
     "text": [
      "Collecting en-core-web-trf==3.4.0\n",
      "  Downloading https://github.com/explosion/spacy-models/releases/download/en_core_web_trf-3.4.0/en_core_web_trf-3.4.0-py3-none-any.whl (460.3 MB)\n",
      "\u001b[2K     \u001b[90m━━━━━━━━━━━━━━━━━━━━━━━━━━━━━━━━━━━━━━━\u001b[0m \u001b[32m460.3/460.3 MB\u001b[0m \u001b[31m3.9 MB/s\u001b[0m eta \u001b[36m0:00:00\u001b[0m00:01\u001b[0m00:01\u001b[0m\n",
      "\u001b[?25hRequirement already satisfied: spacy<3.5.0,>=3.4.0 in /usr/local/lib/python3.9/dist-packages (from en-core-web-trf==3.4.0) (3.4.1)\n",
      "Requirement already satisfied: spacy-transformers<1.2.0,>=1.1.2 in /usr/local/lib/python3.9/dist-packages (from en-core-web-trf==3.4.0) (1.1.7)\n",
      "Requirement already satisfied: pathy>=0.3.5 in /usr/local/lib/python3.9/dist-packages (from spacy<3.5.0,>=3.4.0->en-core-web-trf==3.4.0) (0.6.2)\n",
      "Requirement already satisfied: spacy-loggers<2.0.0,>=1.0.0 in /usr/local/lib/python3.9/dist-packages (from spacy<3.5.0,>=3.4.0->en-core-web-trf==3.4.0) (1.0.2)\n",
      "Requirement already satisfied: typer<0.5.0,>=0.3.0 in /usr/local/lib/python3.9/dist-packages (from spacy<3.5.0,>=3.4.0->en-core-web-trf==3.4.0) (0.4.2)\n",
      "Requirement already satisfied: pydantic!=1.8,!=1.8.1,<1.10.0,>=1.7.4 in /usr/local/lib/python3.9/dist-packages (from spacy<3.5.0,>=3.4.0->en-core-web-trf==3.4.0) (1.9.1)\n",
      "Requirement already satisfied: numpy>=1.15.0 in /usr/local/lib/python3.9/dist-packages (from spacy<3.5.0,>=3.4.0->en-core-web-trf==3.4.0) (1.23.1)\n",
      "Requirement already satisfied: setuptools in /usr/local/lib/python3.9/dist-packages (from spacy<3.5.0,>=3.4.0->en-core-web-trf==3.4.0) (63.1.0)\n",
      "Requirement already satisfied: tqdm<5.0.0,>=4.38.0 in /usr/local/lib/python3.9/dist-packages (from spacy<3.5.0,>=3.4.0->en-core-web-trf==3.4.0) (4.64.0)\n",
      "Requirement already satisfied: spacy-legacy<3.1.0,>=3.0.9 in /usr/local/lib/python3.9/dist-packages (from spacy<3.5.0,>=3.4.0->en-core-web-trf==3.4.0) (3.0.9)\n",
      "Requirement already satisfied: jinja2 in /usr/local/lib/python3.9/dist-packages (from spacy<3.5.0,>=3.4.0->en-core-web-trf==3.4.0) (3.1.2)\n",
      "Requirement already satisfied: cymem<2.1.0,>=2.0.2 in /usr/local/lib/python3.9/dist-packages (from spacy<3.5.0,>=3.4.0->en-core-web-trf==3.4.0) (2.0.6)\n",
      "Requirement already satisfied: packaging>=20.0 in /usr/local/lib/python3.9/dist-packages (from spacy<3.5.0,>=3.4.0->en-core-web-trf==3.4.0) (21.3)\n",
      "Requirement already satisfied: murmurhash<1.1.0,>=0.28.0 in /usr/local/lib/python3.9/dist-packages (from spacy<3.5.0,>=3.4.0->en-core-web-trf==3.4.0) (1.0.7)\n",
      "Requirement already satisfied: catalogue<2.1.0,>=2.0.6 in /usr/local/lib/python3.9/dist-packages (from spacy<3.5.0,>=3.4.0->en-core-web-trf==3.4.0) (2.0.7)\n",
      "Requirement already satisfied: thinc<8.2.0,>=8.1.0 in /usr/local/lib/python3.9/dist-packages (from spacy<3.5.0,>=3.4.0->en-core-web-trf==3.4.0) (8.1.0)\n",
      "Requirement already satisfied: langcodes<4.0.0,>=3.2.0 in /usr/local/lib/python3.9/dist-packages (from spacy<3.5.0,>=3.4.0->en-core-web-trf==3.4.0) (3.3.0)\n",
      "Requirement already satisfied: requests<3.0.0,>=2.13.0 in /usr/local/lib/python3.9/dist-packages (from spacy<3.5.0,>=3.4.0->en-core-web-trf==3.4.0) (2.28.1)\n",
      "Requirement already satisfied: preshed<3.1.0,>=3.0.2 in /usr/local/lib/python3.9/dist-packages (from spacy<3.5.0,>=3.4.0->en-core-web-trf==3.4.0) (3.0.6)\n",
      "Requirement already satisfied: wasabi<1.1.0,>=0.9.1 in /usr/local/lib/python3.9/dist-packages (from spacy<3.5.0,>=3.4.0->en-core-web-trf==3.4.0) (0.9.1)\n",
      "Requirement already satisfied: srsly<3.0.0,>=2.4.3 in /usr/local/lib/python3.9/dist-packages (from spacy<3.5.0,>=3.4.0->en-core-web-trf==3.4.0) (2.4.3)\n",
      "Requirement already satisfied: torch>=1.6.0 in /usr/local/lib/python3.9/dist-packages (from spacy-transformers<1.2.0,>=1.1.2->en-core-web-trf==3.4.0) (1.10.1+cu111)\n",
      "Requirement already satisfied: spacy-alignments<1.0.0,>=0.7.2 in /usr/local/lib/python3.9/dist-packages (from spacy-transformers<1.2.0,>=1.1.2->en-core-web-trf==3.4.0) (0.8.5)\n",
      "Requirement already satisfied: transformers<4.21.0,>=3.4.0 in /usr/local/lib/python3.9/dist-packages (from spacy-transformers<1.2.0,>=1.1.2->en-core-web-trf==3.4.0) (4.20.1)\n",
      "Requirement already satisfied: pyparsing!=3.0.5,>=2.0.2 in /usr/local/lib/python3.9/dist-packages (from packaging>=20.0->spacy<3.5.0,>=3.4.0->en-core-web-trf==3.4.0) (3.0.9)\n",
      "Requirement already satisfied: smart-open<6.0.0,>=5.2.1 in /usr/local/lib/python3.9/dist-packages (from pathy>=0.3.5->spacy<3.5.0,>=3.4.0->en-core-web-trf==3.4.0) (5.2.1)\n",
      "Requirement already satisfied: typing-extensions>=3.7.4.3 in /usr/local/lib/python3.9/dist-packages (from pydantic!=1.8,!=1.8.1,<1.10.0,>=1.7.4->spacy<3.5.0,>=3.4.0->en-core-web-trf==3.4.0) (4.3.0)\n",
      "Requirement already satisfied: charset-normalizer<3,>=2 in /usr/local/lib/python3.9/dist-packages (from requests<3.0.0,>=2.13.0->spacy<3.5.0,>=3.4.0->en-core-web-trf==3.4.0) (2.1.0)\n",
      "Requirement already satisfied: idna<4,>=2.5 in /usr/lib/python3/dist-packages (from requests<3.0.0,>=2.13.0->spacy<3.5.0,>=3.4.0->en-core-web-trf==3.4.0) (2.8)\n",
      "Requirement already satisfied: certifi>=2017.4.17 in /usr/lib/python3/dist-packages (from requests<3.0.0,>=2.13.0->spacy<3.5.0,>=3.4.0->en-core-web-trf==3.4.0) (2019.11.28)\n",
      "Requirement already satisfied: urllib3<1.27,>=1.21.1 in /usr/local/lib/python3.9/dist-packages (from requests<3.0.0,>=2.13.0->spacy<3.5.0,>=3.4.0->en-core-web-trf==3.4.0) (1.26.10)\n",
      "Requirement already satisfied: blis<0.8.0,>=0.7.8 in /usr/local/lib/python3.9/dist-packages (from thinc<8.2.0,>=8.1.0->spacy<3.5.0,>=3.4.0->en-core-web-trf==3.4.0) (0.7.8)\n",
      "Requirement already satisfied: regex!=2019.12.17 in /usr/local/lib/python3.9/dist-packages (from transformers<4.21.0,>=3.4.0->spacy-transformers<1.2.0,>=1.1.2->en-core-web-trf==3.4.0) (2022.7.9)\n",
      "Requirement already satisfied: filelock in /usr/local/lib/python3.9/dist-packages (from transformers<4.21.0,>=3.4.0->spacy-transformers<1.2.0,>=1.1.2->en-core-web-trf==3.4.0) (3.7.1)\n",
      "Requirement already satisfied: huggingface-hub<1.0,>=0.1.0 in /usr/local/lib/python3.9/dist-packages (from transformers<4.21.0,>=3.4.0->spacy-transformers<1.2.0,>=1.1.2->en-core-web-trf==3.4.0) (0.8.1)\n",
      "Requirement already satisfied: pyyaml>=5.1 in /usr/local/lib/python3.9/dist-packages (from transformers<4.21.0,>=3.4.0->spacy-transformers<1.2.0,>=1.1.2->en-core-web-trf==3.4.0) (5.4.1)\n",
      "Requirement already satisfied: tokenizers!=0.11.3,<0.13,>=0.11.1 in /usr/local/lib/python3.9/dist-packages (from transformers<4.21.0,>=3.4.0->spacy-transformers<1.2.0,>=1.1.2->en-core-web-trf==3.4.0) (0.12.1)\n",
      "Requirement already satisfied: click<9.0.0,>=7.1.1 in /usr/local/lib/python3.9/dist-packages (from typer<0.5.0,>=0.3.0->spacy<3.5.0,>=3.4.0->en-core-web-trf==3.4.0) (8.1.3)\n",
      "Requirement already satisfied: MarkupSafe>=2.0 in /usr/local/lib/python3.9/dist-packages (from jinja2->spacy<3.5.0,>=3.4.0->en-core-web-trf==3.4.0) (2.1.1)\n",
      "\u001b[33mWARNING: Running pip as the 'root' user can result in broken permissions and conflicting behaviour with the system package manager. It is recommended to use a virtual environment instead: https://pip.pypa.io/warnings/venv\u001b[0m\u001b[33m\n",
      "\u001b[0m\u001b[38;5;2m✔ Download and installation successful\u001b[0m\n",
      "You can now load the package via spacy.load('en_core_web_trf')\n"
     ]
    }
   ],
   "source": [
    "#Download en_core_web_trf model\n",
    "!python -m spacy download en_core_web_trf"
   ]
  },
  {
   "cell_type": "code",
   "execution_count": 5,
   "metadata": {
    "colab": {
     "base_uri": "https://localhost:8080/"
    },
    "execution": {
     "iopub.execute_input": "2022-08-06T16:31:31.921692Z",
     "iopub.status.busy": "2022-08-06T16:31:31.921438Z",
     "iopub.status.idle": "2022-08-06T16:34:27.814149Z",
     "shell.execute_reply": "2022-08-06T16:34:27.813204Z",
     "shell.execute_reply.started": "2022-08-06T16:31:31.921665Z"
    },
    "id": "1e4de9e7",
    "outputId": "97950d3b-b6d4-4c5a-ec21-b2de89b17baa",
    "scrolled": true
   },
   "outputs": [
    {
     "name": "stdout",
     "output_type": "stream",
     "text": [
      "Looking in links: https://download.pytorch.org/whl/torch_stable.html\n",
      "Requirement already satisfied: torch==1.10.1+cu111 in /usr/local/lib/python3.9/dist-packages (1.10.1+cu111)\n",
      "Requirement already satisfied: torchvision==0.11.2+cu111 in /usr/local/lib/python3.9/dist-packages (0.11.2+cu111)\n",
      "Requirement already satisfied: torchaudio==0.10.1 in /usr/local/lib/python3.9/dist-packages (0.10.1+rocm4.1)\n",
      "Requirement already satisfied: typing-extensions in /usr/local/lib/python3.9/dist-packages (from torch==1.10.1+cu111) (4.3.0)\n",
      "Requirement already satisfied: numpy in /usr/local/lib/python3.9/dist-packages (from torchvision==0.11.2+cu111) (1.23.1)\n",
      "Requirement already satisfied: pillow!=8.3.0,>=5.3.0 in /usr/local/lib/python3.9/dist-packages (from torchvision==0.11.2+cu111) (9.2.0)\n",
      "\u001b[33mWARNING: Running pip as the 'root' user can result in broken permissions and conflicting behaviour with the system package manager. It is recommended to use a virtual environment instead: https://pip.pypa.io/warnings/venv\u001b[0m\u001b[33m\n",
      "\u001b[0m"
     ]
    }
   ],
   "source": [
    "#Install PyTorch version compatible with CUDA 11.1 \n",
    "!pip install torch==1.10.1+cu111 torchvision==0.11.2+cu111 torchaudio==0.10.1 -f https://download.pytorch.org/whl/torch_stable.html"
   ]
  },
  {
   "cell_type": "code",
   "execution_count": 6,
   "metadata": {
    "execution": {
     "iopub.execute_input": "2022-08-06T16:34:27.816368Z",
     "iopub.status.busy": "2022-08-06T16:34:27.816027Z",
     "iopub.status.idle": "2022-08-06T16:34:29.418144Z",
     "shell.execute_reply": "2022-08-06T16:34:29.417196Z",
     "shell.execute_reply.started": "2022-08-06T16:34:27.816337Z"
    }
   },
   "outputs": [
    {
     "data": {
      "text/plain": [
       "True"
      ]
     },
     "execution_count": 5,
     "metadata": {},
     "output_type": "execute_result"
    }
   ],
   "source": [
    "import torch\n",
    "torch.cuda.is_available()"
   ]
  },
  {
   "cell_type": "markdown",
   "metadata": {
    "id": "15dd3987"
   },
   "source": [
    "---"
   ]
  },
  {
   "cell_type": "markdown",
   "metadata": {
    "id": "a37c9c12"
   },
   "source": [
    "# Libraries"
   ]
  },
  {
   "cell_type": "code",
   "execution_count": 7,
   "metadata": {
    "execution": {
     "iopub.execute_input": "2022-08-06T16:35:31.207769Z",
     "iopub.status.busy": "2022-08-06T16:35:31.207324Z",
     "iopub.status.idle": "2022-08-06T16:35:37.311533Z",
     "shell.execute_reply": "2022-08-06T16:35:37.310734Z",
     "shell.execute_reply.started": "2022-08-06T16:35:31.207742Z"
    },
    "id": "afdfef68"
   },
   "outputs": [],
   "source": [
    "import spacy\n",
    "import spacy_transformers\n",
    "import pandas as pd\n",
    "from tqdm import tqdm\n",
    "import json\n",
    "import time"
   ]
  },
  {
   "cell_type": "markdown",
   "metadata": {
    "id": "c67xA6-xcpa0"
   },
   "source": [
    "---"
   ]
  },
  {
   "cell_type": "markdown",
   "metadata": {
    "id": "03gsEZtEbgnH"
   },
   "source": [
    "# \\~\\~\\~\\~\\~\\~\\~\\~\\~\\~\\~\\~\\~\\~\\~\\~\\~\\~\\~\\~\\~\\~\\~ NER Training \\~\\~\\~\\~\\~\\~\\~\\~\\~\\~\\~\\~\\~\\~\\~\\~\\~\\~\\~\\~\\~\\~\\~"
   ]
  },
  {
   "cell_type": "markdown",
   "metadata": {},
   "source": [
    "## ============================ Experiment 2 ============================"
   ]
  },
  {
   "cell_type": "markdown",
   "metadata": {
    "id": "OGXAtMM1tMEM"
   },
   "source": [
    "## Transformers Model using \"en_core_web_trf\"\n",
    "\n",
    "->->->   **The pipeline used here is: [transformer, ner], & its optimized for efficiency in the config file.**\n",
    "\n",
    "* The folowing model is run on the following sample sizes: \n",
    "    * Training: 2000 samples\n",
    "    * Validation: 700 samples\n",
    "    * Testing: 235 samples"
   ]
  },
  {
   "cell_type": "markdown",
   "metadata": {
    "id": "9L_CTZp2tMEN"
   },
   "source": [
    "### Initialize Config File"
   ]
  },
  {
   "cell_type": "code",
   "execution_count": 11,
   "metadata": {
    "colab": {
     "base_uri": "https://localhost:8080/"
    },
    "execution": {
     "iopub.execute_input": "2022-08-06T16:39:51.053673Z",
     "iopub.status.busy": "2022-08-06T16:39:51.053081Z",
     "iopub.status.idle": "2022-08-06T16:40:00.729777Z",
     "shell.execute_reply": "2022-08-06T16:40:00.728969Z",
     "shell.execute_reply.started": "2022-08-06T16:39:51.053620Z"
    },
    "id": "uG9geaSktMEN",
    "outputId": "8a8ed701-f17c-4054-8ff7-127be1d2865e"
   },
   "outputs": [
    {
     "name": "stdout",
     "output_type": "stream",
     "text": [
      "\u001b[38;5;2m✔ Auto-filled config with all values\u001b[0m\n",
      "\u001b[38;5;2m✔ Saved config\u001b[0m\n",
      "/notebooks/config/trf_config_1.cfg\n",
      "You can now add your data and train your pipeline:\n",
      "python -m spacy train trf_config_1.cfg --paths.train ./train.spacy --paths.dev ./dev.spacy\n"
     ]
    }
   ],
   "source": [
    "#Initialize config file with default parameters of BERT\n",
    "!python -m spacy init fill-config /notebooks/config/trf_base_config.cfg /notebooks/config/trf_config_1.cfg"
   ]
  },
  {
   "cell_type": "markdown",
   "metadata": {
    "id": "pA2XinQetMEO"
   },
   "source": [
    "### Debug Data"
   ]
  },
  {
   "cell_type": "code",
   "execution_count": 10,
   "metadata": {
    "colab": {
     "base_uri": "https://localhost:8080/"
    },
    "execution": {
     "iopub.execute_input": "2022-08-06T16:54:12.174625Z",
     "iopub.status.busy": "2022-08-06T16:54:12.173596Z",
     "iopub.status.idle": "2022-08-06T16:54:53.548143Z",
     "shell.execute_reply": "2022-08-06T16:54:53.546946Z",
     "shell.execute_reply.started": "2022-08-06T16:54:12.174595Z"
    },
    "id": "QpRhi0jLtMEO",
    "outputId": "b2beb664-eb07-450b-a891-bfd1860c30f5"
   },
   "outputs": [
    {
     "name": "stdout",
     "output_type": "stream",
     "text": [
      "\u001b[1m\n",
      "============================ Data file validation ============================\u001b[0m\n",
      "Downloading: 100%|██████████████████████████████| 481/481 [00:00<00:00, 407kB/s]\n",
      "Downloading: 100%|███████████████████████████| 878k/878k [00:00<00:00, 11.6MB/s]\n",
      "Downloading: 100%|███████████████████████████| 446k/446k [00:00<00:00, 10.2MB/s]\n",
      "Downloading: 100%|█████████████████████████| 1.29M/1.29M [00:00<00:00, 12.1MB/s]\n",
      "Downloading: 100%|███████████████████████████| 478M/478M [00:21<00:00, 23.3MB/s]\n",
      "Some weights of the model checkpoint at roberta-base were not used when initializing RobertaModel: ['lm_head.decoder.weight', 'lm_head.dense.bias', 'lm_head.bias', 'lm_head.dense.weight', 'lm_head.layer_norm.bias', 'lm_head.layer_norm.weight']\n",
      "- This IS expected if you are initializing RobertaModel from the checkpoint of a model trained on another task or with another architecture (e.g. initializing a BertForSequenceClassification model from a BertForPreTraining model).\n",
      "- This IS NOT expected if you are initializing RobertaModel from the checkpoint of a model that you expect to be exactly identical (initializing a BertForSequenceClassification model from a BertForSequenceClassification model).\n",
      "\u001b[38;5;2m✔ Pipeline can be initialized with data\u001b[0m\n",
      "\u001b[38;5;2m✔ Corpus is loadable\u001b[0m\n",
      "\u001b[1m\n",
      "=============================== Training stats ===============================\u001b[0m\n",
      "Language: en\n",
      "Training pipeline: transformer, ner\n",
      "2000 training docs\n",
      "700 evaluation docs\n",
      "\u001b[38;5;3m⚠ 4 training examples also in evaluation data\u001b[0m\n",
      "\u001b[1m\n",
      "============================== Vocab & Vectors ==============================\u001b[0m\n",
      "\u001b[38;5;4mℹ 167926 total word(s) in the data (16096 unique)\u001b[0m\n",
      "\u001b[38;5;4mℹ No word vectors present in the package\u001b[0m\n",
      "\u001b[1m\n",
      "========================== Named Entity Recognition ==========================\u001b[0m\n",
      "\u001b[38;5;4mℹ 6 label(s)\u001b[0m\n",
      "0 missing value(s) (tokens with '-' label)\n",
      "\u001b[38;5;2m✔ Good amount of examples for all labels\u001b[0m\n",
      "\u001b[38;5;2m✔ Examples without occurrences available for all labels\u001b[0m\n",
      "\u001b[38;5;2m✔ No entities consisting of or starting/ending with whitespace\u001b[0m\n",
      "\u001b[38;5;2m✔ No entities crossing sentence boundaries\u001b[0m\n",
      "\u001b[1m\n",
      "================================== Summary ==================================\u001b[0m\n",
      "\u001b[38;5;2m✔ 6 checks passed\u001b[0m\n",
      "\u001b[38;5;3m⚠ 1 warning\u001b[0m\n"
     ]
    }
   ],
   "source": [
    "# Debug & validate the training and development data, get useful stats, \n",
    "# and find problems like invalid entity annotations,cyclic dependencies, low data labels and more.\n",
    "!python -m spacy debug data /notebooks/config/trf_config_1.cfg --paths.train /notebooks/data/processed/ner_for_training/spacy_train_mini.spacy --paths.dev /notebooks/data/processed/ner_for_training/spacy_dev_mini.spacy"
   ]
  },
  {
   "cell_type": "markdown",
   "metadata": {
    "id": "1JReJJtftMEP"
   },
   "source": [
    "### Train NER Transformer Model"
   ]
  },
  {
   "cell_type": "code",
   "execution_count": 12,
   "metadata": {
    "colab": {
     "base_uri": "https://localhost:8080/"
    },
    "execution": {
     "iopub.execute_input": "2022-08-06T16:56:42.351158Z",
     "iopub.status.busy": "2022-08-06T16:56:42.350746Z",
     "iopub.status.idle": "2022-08-06T18:04:34.816553Z",
     "shell.execute_reply": "2022-08-06T18:04:34.815777Z",
     "shell.execute_reply.started": "2022-08-06T16:56:42.351129Z"
    },
    "id": "5wvKwwLStMEP",
    "outputId": "57274528-cc71-49af-9ced-7217d0784bfa",
    "scrolled": false
   },
   "outputs": [
    {
     "name": "stdout",
     "output_type": "stream",
     "text": [
      "\u001b[38;5;4mℹ Saving to output directory: /notebooks/models/trf_model_1\u001b[0m\n",
      "\u001b[38;5;4mℹ Using GPU: 0\u001b[0m\n",
      "\u001b[1m\n",
      "=========================== Initializing pipeline ===========================\u001b[0m\n",
      "[2022-08-06 16:56:55,183] [INFO] Set up nlp object from config\n",
      "[2022-08-06 16:56:55,193] [INFO] Pipeline: ['transformer', 'ner']\n",
      "[2022-08-06 16:56:55,196] [INFO] Created vocabulary\n",
      "[2022-08-06 16:56:55,198] [INFO] Finished initializing nlp object\n",
      "Some weights of the model checkpoint at roberta-base were not used when initializing RobertaModel: ['lm_head.decoder.weight', 'lm_head.bias', 'lm_head.layer_norm.weight', 'lm_head.dense.weight', 'lm_head.layer_norm.bias', 'lm_head.dense.bias']\n",
      "- This IS expected if you are initializing RobertaModel from the checkpoint of a model trained on another task or with another architecture (e.g. initializing a BertForSequenceClassification model from a BertForPreTraining model).\n",
      "- This IS NOT expected if you are initializing RobertaModel from the checkpoint of a model that you expect to be exactly identical (initializing a BertForSequenceClassification model from a BertForSequenceClassification model).\n",
      "[2022-08-06 16:57:09,017] [INFO] Initialized pipeline components: ['transformer', 'ner']\n",
      "\u001b[38;5;2m✔ Initialized pipeline\u001b[0m\n",
      "\u001b[1m\n",
      "============================= Training pipeline =============================\u001b[0m\n",
      "\u001b[38;5;4mℹ Pipeline: ['transformer', 'ner']\u001b[0m\n",
      "\u001b[38;5;4mℹ Initial learn rate: 0.0\u001b[0m\n",
      "E    #       LOSS TRANS...  LOSS NER  ENTS_F  ENTS_P  ENTS_R  SCORE \n",
      "---  ------  -------------  --------  ------  ------  ------  ------\n",
      "  0       0       15734.19   1246.56    0.06    0.03    0.80    0.00\n",
      "  1     200      863412.66  83667.32   17.23   17.13   17.33    0.17\n",
      "  3     400      389727.22  27918.37   43.29   45.09   41.63    0.43\n",
      "  5     600        8929.47  10169.36   58.53   53.18   65.08    0.59\n",
      "  7     800        5185.72   7722.42   60.47   52.53   71.24    0.60\n",
      "  9    1000        7392.85   5916.19   63.98   59.72   68.88    0.64\n",
      " 11    1200        5991.27   5055.66   65.23   60.65   70.55    0.65\n",
      " 13    1400        2865.35   3959.54   62.58   55.18   72.26    0.63\n",
      " 15    1600        2273.65   3430.49   63.70   56.50   73.02    0.64\n",
      " 17    1800        5121.91   3088.02   65.69   58.89   74.25    0.66\n",
      " 19    2000        1444.03   2677.83   65.95   60.21   72.91    0.66\n",
      " 21    2200        2924.44   2735.95   64.84   59.09   71.83    0.65\n",
      " 22    2400       12169.20   2581.82   65.03   58.55   73.12    0.65\n",
      " 24    2600        2508.50   2101.33   65.37   58.43   74.20    0.65\n",
      " 26    2800        3234.22   2000.54   64.89   59.17   71.83    0.65\n",
      " 28    3000         467.40   1754.80   66.20   60.58   72.96    0.66\n",
      " 30    3200         331.46   1666.91   64.88   57.65   74.20    0.65\n",
      " 32    3400         548.76   1601.49   66.03   59.79   73.71    0.66\n",
      " 34    3600         279.76   1513.64   71.44   69.34   73.66    0.71\n",
      " 36    3800         340.65   1516.87   69.50   65.45   74.09    0.70\n",
      " 38    4000        3028.56   1494.88   70.84   68.09   73.82    0.71\n",
      " 40    4200        5986.53   1518.59   71.03   69.05   73.12    0.71\n",
      " 42    4400       11291.91   1470.83   72.14   72.83   71.46    0.72\n",
      " 44    4600        1081.39   1357.73   71.74   70.40   73.12    0.72\n",
      " 46    4800        1332.20   1231.57   72.07   70.75   73.44    0.72\n",
      " 47    5000         396.98   1188.81   71.66   69.29   74.20    0.72\n",
      " 49    5200         375.28   1093.81   71.75   70.08   73.50    0.72\n",
      " 51    5400        1675.34   1137.37   72.00   70.03   74.09    0.72\n",
      " 53    5600         172.57   1001.06   70.80   67.00   75.05    0.71\n",
      " 55    5800       39442.65   1120.48   71.70   69.23   74.36    0.72\n",
      " 57    6000       14295.10    961.07   72.06   70.38   73.82    0.72\n",
      "\u001b[38;5;2m✔ Saved pipeline to output directory\u001b[0m\n",
      "/notebooks/models/trf_model_1/model-last\n"
     ]
    }
   ],
   "source": [
    "start = time.time()\n",
    "\n",
    "!python -m spacy train -g 0 /notebooks/config/trf_config_1.cfg --output /notebooks/models/trf_model_1 --paths.train /notebooks/data/processed/ner_for_training/spacy_train_mini.spacy --paths.dev /notebooks/data/processed/ner_for_training/spacy_dev_mini.spacy "
   ]
  },
  {
   "cell_type": "code",
   "execution_count": 13,
   "metadata": {
    "colab": {
     "base_uri": "https://localhost:8080/"
    },
    "execution": {
     "iopub.execute_input": "2022-08-06T18:04:34.818209Z",
     "iopub.status.busy": "2022-08-06T18:04:34.817916Z",
     "iopub.status.idle": "2022-08-06T18:04:34.824846Z",
     "shell.execute_reply": "2022-08-06T18:04:34.824243Z",
     "shell.execute_reply.started": "2022-08-06T18:04:34.818183Z"
    },
    "id": "uzUdnG6YtMEP",
    "outputId": "6e510eb5-d796-4bff-f254-b21d1b280bf0"
   },
   "outputs": [
    {
     "name": "stdout",
     "output_type": "stream",
     "text": [
      "Transformer Model 1 Training Time: 01:07:52\n"
     ]
    }
   ],
   "source": [
    "elapsed_time = time.time() - start\n",
    "print('Transformer Model 1 Training Time:', time.strftime(\"%H:%M:%S\", time.gmtime(elapsed_time)))"
   ]
  },
  {
   "cell_type": "markdown",
   "metadata": {},
   "source": [
    "---"
   ]
  },
  {
   "cell_type": "markdown",
   "metadata": {},
   "source": [
    "## Test the model"
   ]
  },
  {
   "cell_type": "code",
   "execution_count": 16,
   "metadata": {
    "execution": {
     "iopub.execute_input": "2022-08-06T18:16:25.447398Z",
     "iopub.status.busy": "2022-08-06T18:16:25.446091Z",
     "iopub.status.idle": "2022-08-06T18:16:47.882624Z",
     "shell.execute_reply": "2022-08-06T18:16:47.881649Z",
     "shell.execute_reply.started": "2022-08-06T18:16:25.447362Z"
    }
   },
   "outputs": [
    {
     "name": "stdout",
     "output_type": "stream",
     "text": [
      "\u001b[38;5;4mℹ Using GPU: 0\u001b[0m\n",
      "\u001b[1m\n",
      "================================== Results ==================================\u001b[0m\n",
      "\n",
      "TOK     100.00\n",
      "NER P   72.73 \n",
      "NER R   70.84 \n",
      "NER F   71.77 \n",
      "SPEED   12133 \n",
      "\n",
      "\u001b[1m\n",
      "=============================== NER (per type) ===============================\u001b[0m\n",
      "\n",
      "            P       R       F\n",
      "LOC     66.67   69.66   68.13\n",
      "DATE    82.69   85.66   84.15\n",
      "ORG     68.86   63.71   66.19\n",
      "FAC     64.60   66.36   65.47\n",
      "MONEY   84.21   66.67   74.42\n",
      "EVENT   66.67   33.33   44.44\n",
      "\n",
      "/usr/local/lib/python3.9/dist-packages/spacy/displacy/__init__.py:205: UserWarning: [W006] No entities to visualize found in Doc object. If this is surprising to you, make sure the Doc was processed using a model that supports named entity recognition, and check the `doc.ents` property manually if necessary.\n",
      "  warnings.warn(Warnings.W006)\n",
      "\u001b[38;5;2m✔ Generated 25 parses as HTML\u001b[0m\n",
      "/notebooks/figures/trf_model_1\n",
      "\u001b[38;5;2m✔ Saved results to /notebooks/evaluation/eval_trf_1.json\u001b[0m\n"
     ]
    }
   ],
   "source": [
    "!python -m spacy evaluate /notebooks/models/trf_model_1/model-best /notebooks/data/processed/ner_for_training/spacy_test_mini.spacy -g 0 -o /notebooks/evaluation/eval_trf_1.json -dp /notebooks/figures/trf_model_1"
   ]
  }
 ],
 "metadata": {
  "accelerator": "GPU",
  "colab": {
   "collapsed_sections": [],
   "name": "05555_ner.ipynb",
   "provenance": []
  },
  "gpuClass": "standard",
  "kernelspec": {
   "display_name": "Python 3 (ipykernel)",
   "language": "python",
   "name": "python3"
  },
  "language_info": {
   "codemirror_mode": {
    "name": "ipython",
    "version": 3
   },
   "file_extension": ".py",
   "mimetype": "text/x-python",
   "name": "python",
   "nbconvert_exporter": "python",
   "pygments_lexer": "ipython3",
   "version": "3.8.5"
  }
 },
 "nbformat": 4,
 "nbformat_minor": 4
}
