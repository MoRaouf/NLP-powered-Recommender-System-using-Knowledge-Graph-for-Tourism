{
 "cells": [
  {
   "cell_type": "markdown",
   "id": "8422a2ff",
   "metadata": {},
   "source": [
    "# Libraries & Constants"
   ]
  },
  {
   "cell_type": "code",
   "execution_count": 1,
   "id": "e2c4aa09",
   "metadata": {},
   "outputs": [],
   "source": [
    "from neo4j import GraphDatabase\n",
    "import pandas as pd\n",
    "import json\n",
    "import copy\n",
    "from itertools import chain\n",
    "from collections import Counter"
   ]
  },
  {
   "cell_type": "code",
   "execution_count": 3,
   "id": "0f93168e",
   "metadata": {},
   "outputs": [],
   "source": [
    "DATA_MINI_PATH   = \"../data/processed/dataset3_mini.csv\"\n",
    "MANUAL_CORRECTED_DATA_MINI_PATH = \"../data/processed/json_datasets/corrected_train_data_mini.json\""
   ]
  },
  {
   "cell_type": "markdown",
   "id": "2d7e6f3c",
   "metadata": {},
   "source": [
    "---"
   ]
  },
  {
   "cell_type": "markdown",
   "id": "4ecf6a80",
   "metadata": {},
   "source": [
    "## Load the Data"
   ]
  },
  {
   "cell_type": "code",
   "execution_count": 4,
   "id": "3ba315fe",
   "metadata": {},
   "outputs": [
    {
     "data": {
      "text/html": [
       "<div>\n",
       "<style scoped>\n",
       "    .dataframe tbody tr th:only-of-type {\n",
       "        vertical-align: middle;\n",
       "    }\n",
       "\n",
       "    .dataframe tbody tr th {\n",
       "        vertical-align: top;\n",
       "    }\n",
       "\n",
       "    .dataframe thead th {\n",
       "        text-align: right;\n",
       "    }\n",
       "</style>\n",
       "<table border=\"1\" class=\"dataframe\">\n",
       "  <thead>\n",
       "    <tr style=\"text-align: right;\">\n",
       "      <th></th>\n",
       "      <th>City</th>\n",
       "      <th>Category</th>\n",
       "      <th>POI</th>\n",
       "      <th>Description</th>\n",
       "      <th>Country</th>\n",
       "    </tr>\n",
       "  </thead>\n",
       "  <tbody>\n",
       "    <tr>\n",
       "      <th>0</th>\n",
       "      <td>Cairo</td>\n",
       "      <td>sleep</td>\n",
       "      <td>Le Passage</td>\n",
       "      <td>was Iberotel</td>\n",
       "      <td>Egypt</td>\n",
       "    </tr>\n",
       "    <tr>\n",
       "      <th>1</th>\n",
       "      <td>Cairo</td>\n",
       "      <td>see</td>\n",
       "      <td>Egyptian Museum</td>\n",
       "      <td>Located in the Midan Tahrir area and officiall...</td>\n",
       "      <td>Egypt</td>\n",
       "    </tr>\n",
       "    <tr>\n",
       "      <th>2</th>\n",
       "      <td>Cairo</td>\n",
       "      <td>see</td>\n",
       "      <td>Ibn Tulun</td>\n",
       "      <td>Arguably the oldest mosque in Cairo, built bet...</td>\n",
       "      <td>Egypt</td>\n",
       "    </tr>\n",
       "    <tr>\n",
       "      <th>3</th>\n",
       "      <td>Cairo</td>\n",
       "      <td>see</td>\n",
       "      <td>Al-Azhar Park</td>\n",
       "      <td>A recently opened landscaped gardens overlooki...</td>\n",
       "      <td>Egypt</td>\n",
       "    </tr>\n",
       "    <tr>\n",
       "      <th>4</th>\n",
       "      <td>Cairo</td>\n",
       "      <td>see</td>\n",
       "      <td>Khan El Khalily</td>\n",
       "      <td>Cairo's souk area where visitors will find man...</td>\n",
       "      <td>Egypt</td>\n",
       "    </tr>\n",
       "    <tr>\n",
       "      <th>5</th>\n",
       "      <td>Cairo</td>\n",
       "      <td>see</td>\n",
       "      <td>Abdeen Palace</td>\n",
       "      <td>Located about one Kilometer away from the Mida...</td>\n",
       "      <td>Egypt</td>\n",
       "    </tr>\n",
       "    <tr>\n",
       "      <th>6</th>\n",
       "      <td>Cairo</td>\n",
       "      <td>see</td>\n",
       "      <td>Pharaonic Village</td>\n",
       "      <td>It is about twenty minutes driving from Downtown.</td>\n",
       "      <td>Egypt</td>\n",
       "    </tr>\n",
       "    <tr>\n",
       "      <th>7</th>\n",
       "      <td>Cairo</td>\n",
       "      <td>do</td>\n",
       "      <td>The Culture Wheel</td>\n",
       "      <td>The largest independent cultural centre in Cai...</td>\n",
       "      <td>Egypt</td>\n",
       "    </tr>\n",
       "    <tr>\n",
       "      <th>8</th>\n",
       "      <td>Cairo</td>\n",
       "      <td>do</td>\n",
       "      <td>The Garden Theater</td>\n",
       "      <td>In Al-Azhar Park offers a range of musical per...</td>\n",
       "      <td>Egypt</td>\n",
       "    </tr>\n",
       "    <tr>\n",
       "      <th>9</th>\n",
       "      <td>Cairo</td>\n",
       "      <td>do</td>\n",
       "      <td>Cairo Opera House</td>\n",
       "      <td>It hosted the Cairo International Film Festiva...</td>\n",
       "      <td>Egypt</td>\n",
       "    </tr>\n",
       "  </tbody>\n",
       "</table>\n",
       "</div>"
      ],
      "text/plain": [
       "    City Category                 POI  \\\n",
       "0  Cairo    sleep          Le Passage   \n",
       "1  Cairo      see     Egyptian Museum   \n",
       "2  Cairo      see           Ibn Tulun   \n",
       "3  Cairo      see       Al-Azhar Park   \n",
       "4  Cairo      see     Khan El Khalily   \n",
       "5  Cairo      see       Abdeen Palace   \n",
       "6  Cairo      see   Pharaonic Village   \n",
       "7  Cairo       do   The Culture Wheel   \n",
       "8  Cairo       do  The Garden Theater   \n",
       "9  Cairo       do   Cairo Opera House   \n",
       "\n",
       "                                         Description Country  \n",
       "0                                       was Iberotel   Egypt  \n",
       "1  Located in the Midan Tahrir area and officiall...   Egypt  \n",
       "2  Arguably the oldest mosque in Cairo, built bet...   Egypt  \n",
       "3  A recently opened landscaped gardens overlooki...   Egypt  \n",
       "4  Cairo's souk area where visitors will find man...   Egypt  \n",
       "5  Located about one Kilometer away from the Mida...   Egypt  \n",
       "6  It is about twenty minutes driving from Downtown.   Egypt  \n",
       "7  The largest independent cultural centre in Cai...   Egypt  \n",
       "8  In Al-Azhar Park offers a range of musical per...   Egypt  \n",
       "9  It hosted the Cairo International Film Festiva...   Egypt  "
      ]
     },
     "execution_count": 4,
     "metadata": {},
     "output_type": "execute_result"
    }
   ],
   "source": [
    "data_mini = pd.read_csv(DATA_MINI_PATH)\n",
    "data_mini.head(10)"
   ]
  },
  {
   "cell_type": "code",
   "execution_count": 98,
   "id": "77461726",
   "metadata": {},
   "outputs": [
    {
     "name": "stdout",
     "output_type": "stream",
     "text": [
      "# of unique POIs  -> 2881\n",
      "# of unique cities  -> 12\n",
      "# of unique countries  -> 9\n"
     ]
    }
   ],
   "source": [
    "print(f\"# of unique POIs  -> {data_mini.POI.nunique()}\")\n",
    "print(f\"# of unique cities  -> {data_mini.City.nunique()}\")\n",
    "print(f\"# of unique countries  -> {data_mini.Country.nunique()}\")"
   ]
  },
  {
   "cell_type": "code",
   "execution_count": 5,
   "id": "b14083ac",
   "metadata": {},
   "outputs": [
    {
     "data": {
      "text/plain": [
       "[{'document': 'Located about one Kilometer away from the Midan El-Tahrir a five minutes walk, home of the last king of Egypt the exiled king Farouk.',\n",
       "  'annotation': [[18, 27, 'FAC'], [38, 57, 'FAC']]},\n",
       " {'document': 'It is about twenty minutes driving from Downtown.',\n",
       "  'annotation': [[40, 48, 'LOC']]},\n",
       " {'document': 'The largest independent cultural centre in Cairo, offers concerts almost every night.',\n",
       "  'annotation': []},\n",
       " {'document': 'In Al-Azhar Park offers a range of musical performances. Al-Azhar Park is also a great place for an evening stroll.',\n",
       "  'annotation': []},\n",
       " {'document': 'It hosted the Cairo International Film Festival in 2012 and screened some international films with very cheap subsidized ticket prices.',\n",
       "  'annotation': [[10, 47, 'ORG'], [51, 55, 'DATE']]}]"
      ]
     },
     "execution_count": 5,
     "metadata": {},
     "output_type": "execute_result"
    }
   ],
   "source": [
    "corrected_file = open(MANUAL_CORRECTED_DATA_MINI_PATH)\n",
    "corrected_data = json.load(corrected_file)\n",
    "corrected_data[5:10]"
   ]
  },
  {
   "cell_type": "code",
   "execution_count": 6,
   "id": "c65ee7e8",
   "metadata": {},
   "outputs": [
    {
     "data": {
      "text/plain": [
       "[{'document': 'was Iberotel', 'annotation': [[4, 12, 'ORG']]},\n",
       " {'document': \"Located in the Midan Tahrir area and officially named Museum of Egyptian Antiquities but known by all as the Egyptian Museum, it hosts the world's premier collection of ancient Egyptian artifacts.\",\n",
       "  'annotation': [[15, 27, 'FAC'], [54, 84, 'ORG'], [105, 124, 'ORG']]},\n",
       " {'document': 'Arguably the oldest mosque in Cairo, built between 868-884.',\n",
       "  'annotation': []},\n",
       " {'document': 'A recently opened landscaped gardens overlooking the Citadel',\n",
       "  'annotation': [[53, 60, 'ORG']]},\n",
       " {'document': \"Cairo's souk area where visitors will find many merchants selling perfume, spices, Gold, Egyptian hand craft.\",\n",
       "  'annotation': []}]"
      ]
     },
     "execution_count": 6,
     "metadata": {},
     "output_type": "execute_result"
    }
   ],
   "source": [
    "corrected_data[:5]"
   ]
  },
  {
   "cell_type": "code",
   "execution_count": 7,
   "id": "75b44174",
   "metadata": {},
   "outputs": [
    {
     "data": {
      "text/html": [
       "<div>\n",
       "<style scoped>\n",
       "    .dataframe tbody tr th:only-of-type {\n",
       "        vertical-align: middle;\n",
       "    }\n",
       "\n",
       "    .dataframe tbody tr th {\n",
       "        vertical-align: top;\n",
       "    }\n",
       "\n",
       "    .dataframe thead th {\n",
       "        text-align: right;\n",
       "    }\n",
       "</style>\n",
       "<table border=\"1\" class=\"dataframe\">\n",
       "  <thead>\n",
       "    <tr style=\"text-align: right;\">\n",
       "      <th></th>\n",
       "      <th>document</th>\n",
       "      <th>annotation</th>\n",
       "    </tr>\n",
       "  </thead>\n",
       "  <tbody>\n",
       "    <tr>\n",
       "      <th>5</th>\n",
       "      <td>Located about one Kilometer away from the Mida...</td>\n",
       "      <td>[[18, 27, FAC], [38, 57, FAC]]</td>\n",
       "    </tr>\n",
       "    <tr>\n",
       "      <th>6</th>\n",
       "      <td>It is about twenty minutes driving from Downtown.</td>\n",
       "      <td>[[40, 48, LOC]]</td>\n",
       "    </tr>\n",
       "    <tr>\n",
       "      <th>7</th>\n",
       "      <td>The largest independent cultural centre in Cai...</td>\n",
       "      <td>[]</td>\n",
       "    </tr>\n",
       "    <tr>\n",
       "      <th>8</th>\n",
       "      <td>In Al-Azhar Park offers a range of musical per...</td>\n",
       "      <td>[]</td>\n",
       "    </tr>\n",
       "    <tr>\n",
       "      <th>9</th>\n",
       "      <td>It hosted the Cairo International Film Festiva...</td>\n",
       "      <td>[[10, 47, ORG], [51, 55, DATE]]</td>\n",
       "    </tr>\n",
       "  </tbody>\n",
       "</table>\n",
       "</div>"
      ],
      "text/plain": [
       "                                            document  \\\n",
       "5  Located about one Kilometer away from the Mida...   \n",
       "6  It is about twenty minutes driving from Downtown.   \n",
       "7  The largest independent cultural centre in Cai...   \n",
       "8  In Al-Azhar Park offers a range of musical per...   \n",
       "9  It hosted the Cairo International Film Festiva...   \n",
       "\n",
       "                        annotation  \n",
       "5   [[18, 27, FAC], [38, 57, FAC]]  \n",
       "6                  [[40, 48, LOC]]  \n",
       "7                               []  \n",
       "8                               []  \n",
       "9  [[10, 47, ORG], [51, 55, DATE]]  "
      ]
     },
     "execution_count": 7,
     "metadata": {},
     "output_type": "execute_result"
    }
   ],
   "source": [
    "corr_d = copy.deepcopy(corrected_data)\n",
    "corr_df = pd.DataFrame(corr_d)\n",
    "corr_df[5:10]"
   ]
  },
  {
   "cell_type": "markdown",
   "id": "7cb2e508",
   "metadata": {},
   "source": [
    "## Create separate dataframe for each entity"
   ]
  },
  {
   "cell_type": "code",
   "execution_count": 207,
   "id": "4726280c",
   "metadata": {},
   "outputs": [],
   "source": [
    "def get_ent_rows(df, entity):\n",
    "    ents = []\n",
    "    tags = []\n",
    "    ent_list = []\n",
    "    tag_list = []\n",
    "    for i, row in enumerate(df[\"annotation\"]):\n",
    "        for e in row:\n",
    "            if e[2] == entity:\n",
    "                start, end = e[0],e[1]\n",
    "                ent_list.append(df.iloc[i][\"document\"][start:end])\n",
    "                tag_list.append(e[2])\n",
    "\n",
    "        ents.append(ent_list)\n",
    "        tags.append(tag_list)\n",
    "        ent_list = []\n",
    "        tag_list = []\n",
    "        \n",
    "    return ents, tags"
   ]
  },
  {
   "cell_type": "code",
   "execution_count": 211,
   "id": "a3d63c6a",
   "metadata": {},
   "outputs": [],
   "source": [
    "org = copy.deepcopy(data_mini)\n",
    "org[\"ents\"], org[\"tags\"] = get_ent_rows(corr_df, \"ORG\")"
   ]
  },
  {
   "cell_type": "code",
   "execution_count": 212,
   "id": "f3357e54",
   "metadata": {},
   "outputs": [
    {
     "data": {
      "text/html": [
       "<div>\n",
       "<style scoped>\n",
       "    .dataframe tbody tr th:only-of-type {\n",
       "        vertical-align: middle;\n",
       "    }\n",
       "\n",
       "    .dataframe tbody tr th {\n",
       "        vertical-align: top;\n",
       "    }\n",
       "\n",
       "    .dataframe thead th {\n",
       "        text-align: right;\n",
       "    }\n",
       "</style>\n",
       "<table border=\"1\" class=\"dataframe\">\n",
       "  <thead>\n",
       "    <tr style=\"text-align: right;\">\n",
       "      <th></th>\n",
       "      <th>City</th>\n",
       "      <th>Category</th>\n",
       "      <th>POI</th>\n",
       "      <th>Description</th>\n",
       "      <th>Country</th>\n",
       "      <th>ents</th>\n",
       "      <th>tags</th>\n",
       "    </tr>\n",
       "  </thead>\n",
       "  <tbody>\n",
       "    <tr>\n",
       "      <th>0</th>\n",
       "      <td>Cairo</td>\n",
       "      <td>sleep</td>\n",
       "      <td>Le Passage</td>\n",
       "      <td>was Iberotel</td>\n",
       "      <td>Egypt</td>\n",
       "      <td>[Iberotel]</td>\n",
       "      <td>[ORG]</td>\n",
       "    </tr>\n",
       "    <tr>\n",
       "      <th>1</th>\n",
       "      <td>Cairo</td>\n",
       "      <td>see</td>\n",
       "      <td>Egyptian Museum</td>\n",
       "      <td>Located in the Midan Tahrir area and officiall...</td>\n",
       "      <td>Egypt</td>\n",
       "      <td>[Museum of Egyptian Antiquities, the Egyptian ...</td>\n",
       "      <td>[ORG, ORG]</td>\n",
       "    </tr>\n",
       "    <tr>\n",
       "      <th>2</th>\n",
       "      <td>Cairo</td>\n",
       "      <td>see</td>\n",
       "      <td>Ibn Tulun</td>\n",
       "      <td>Arguably the oldest mosque in Cairo, built bet...</td>\n",
       "      <td>Egypt</td>\n",
       "      <td>[]</td>\n",
       "      <td>[]</td>\n",
       "    </tr>\n",
       "    <tr>\n",
       "      <th>3</th>\n",
       "      <td>Cairo</td>\n",
       "      <td>see</td>\n",
       "      <td>Al-Azhar Park</td>\n",
       "      <td>A recently opened landscaped gardens overlooki...</td>\n",
       "      <td>Egypt</td>\n",
       "      <td>[Citadel]</td>\n",
       "      <td>[ORG]</td>\n",
       "    </tr>\n",
       "    <tr>\n",
       "      <th>4</th>\n",
       "      <td>Cairo</td>\n",
       "      <td>see</td>\n",
       "      <td>Khan El Khalily</td>\n",
       "      <td>Cairo's souk area where visitors will find man...</td>\n",
       "      <td>Egypt</td>\n",
       "      <td>[]</td>\n",
       "      <td>[]</td>\n",
       "    </tr>\n",
       "  </tbody>\n",
       "</table>\n",
       "</div>"
      ],
      "text/plain": [
       "    City Category              POI  \\\n",
       "0  Cairo    sleep       Le Passage   \n",
       "1  Cairo      see  Egyptian Museum   \n",
       "2  Cairo      see        Ibn Tulun   \n",
       "3  Cairo      see    Al-Azhar Park   \n",
       "4  Cairo      see  Khan El Khalily   \n",
       "\n",
       "                                         Description Country  \\\n",
       "0                                       was Iberotel   Egypt   \n",
       "1  Located in the Midan Tahrir area and officiall...   Egypt   \n",
       "2  Arguably the oldest mosque in Cairo, built bet...   Egypt   \n",
       "3  A recently opened landscaped gardens overlooki...   Egypt   \n",
       "4  Cairo's souk area where visitors will find man...   Egypt   \n",
       "\n",
       "                                                ents        tags  \n",
       "0                                         [Iberotel]       [ORG]  \n",
       "1  [Museum of Egyptian Antiquities, the Egyptian ...  [ORG, ORG]  \n",
       "2                                                 []          []  \n",
       "3                                          [Citadel]       [ORG]  \n",
       "4                                                 []          []  "
      ]
     },
     "execution_count": 212,
     "metadata": {},
     "output_type": "execute_result"
    }
   ],
   "source": [
    "org.head()"
   ]
  },
  {
   "cell_type": "code",
   "execution_count": 221,
   "id": "4e5f7ea0",
   "metadata": {},
   "outputs": [],
   "source": [
    "loc = copy.deepcopy(data_mini)\n",
    "loc[\"ents\"], loc[\"tags\"] = get_ent_rows(corr_df, \"LOC\")"
   ]
  },
  {
   "cell_type": "code",
   "execution_count": 222,
   "id": "a52a097b",
   "metadata": {},
   "outputs": [
    {
     "data": {
      "text/html": [
       "<div>\n",
       "<style scoped>\n",
       "    .dataframe tbody tr th:only-of-type {\n",
       "        vertical-align: middle;\n",
       "    }\n",
       "\n",
       "    .dataframe tbody tr th {\n",
       "        vertical-align: top;\n",
       "    }\n",
       "\n",
       "    .dataframe thead th {\n",
       "        text-align: right;\n",
       "    }\n",
       "</style>\n",
       "<table border=\"1\" class=\"dataframe\">\n",
       "  <thead>\n",
       "    <tr style=\"text-align: right;\">\n",
       "      <th></th>\n",
       "      <th>City</th>\n",
       "      <th>Category</th>\n",
       "      <th>POI</th>\n",
       "      <th>Description</th>\n",
       "      <th>Country</th>\n",
       "      <th>ents</th>\n",
       "      <th>tags</th>\n",
       "    </tr>\n",
       "  </thead>\n",
       "  <tbody>\n",
       "    <tr>\n",
       "      <th>5</th>\n",
       "      <td>Cairo</td>\n",
       "      <td>see</td>\n",
       "      <td>Abdeen Palace</td>\n",
       "      <td>Located about one Kilometer away from the Mida...</td>\n",
       "      <td>Egypt</td>\n",
       "      <td>[]</td>\n",
       "      <td>[]</td>\n",
       "    </tr>\n",
       "    <tr>\n",
       "      <th>6</th>\n",
       "      <td>Cairo</td>\n",
       "      <td>see</td>\n",
       "      <td>Pharaonic Village</td>\n",
       "      <td>It is about twenty minutes driving from Downtown.</td>\n",
       "      <td>Egypt</td>\n",
       "      <td>[Downtown]</td>\n",
       "      <td>[LOC]</td>\n",
       "    </tr>\n",
       "    <tr>\n",
       "      <th>7</th>\n",
       "      <td>Cairo</td>\n",
       "      <td>do</td>\n",
       "      <td>The Culture Wheel</td>\n",
       "      <td>The largest independent cultural centre in Cai...</td>\n",
       "      <td>Egypt</td>\n",
       "      <td>[]</td>\n",
       "      <td>[]</td>\n",
       "    </tr>\n",
       "    <tr>\n",
       "      <th>8</th>\n",
       "      <td>Cairo</td>\n",
       "      <td>do</td>\n",
       "      <td>The Garden Theater</td>\n",
       "      <td>In Al-Azhar Park offers a range of musical per...</td>\n",
       "      <td>Egypt</td>\n",
       "      <td>[]</td>\n",
       "      <td>[]</td>\n",
       "    </tr>\n",
       "    <tr>\n",
       "      <th>9</th>\n",
       "      <td>Cairo</td>\n",
       "      <td>do</td>\n",
       "      <td>Cairo Opera House</td>\n",
       "      <td>It hosted the Cairo International Film Festiva...</td>\n",
       "      <td>Egypt</td>\n",
       "      <td>[]</td>\n",
       "      <td>[]</td>\n",
       "    </tr>\n",
       "  </tbody>\n",
       "</table>\n",
       "</div>"
      ],
      "text/plain": [
       "    City Category                 POI  \\\n",
       "5  Cairo      see       Abdeen Palace   \n",
       "6  Cairo      see   Pharaonic Village   \n",
       "7  Cairo       do   The Culture Wheel   \n",
       "8  Cairo       do  The Garden Theater   \n",
       "9  Cairo       do   Cairo Opera House   \n",
       "\n",
       "                                         Description Country        ents  \\\n",
       "5  Located about one Kilometer away from the Mida...   Egypt          []   \n",
       "6  It is about twenty minutes driving from Downtown.   Egypt  [Downtown]   \n",
       "7  The largest independent cultural centre in Cai...   Egypt          []   \n",
       "8  In Al-Azhar Park offers a range of musical per...   Egypt          []   \n",
       "9  It hosted the Cairo International Film Festiva...   Egypt          []   \n",
       "\n",
       "    tags  \n",
       "5     []  \n",
       "6  [LOC]  \n",
       "7     []  \n",
       "8     []  \n",
       "9     []  "
      ]
     },
     "execution_count": 222,
     "metadata": {},
     "output_type": "execute_result"
    }
   ],
   "source": [
    "loc[5:10]"
   ]
  },
  {
   "cell_type": "code",
   "execution_count": 223,
   "id": "b77fe11c",
   "metadata": {},
   "outputs": [],
   "source": [
    "fac = copy.deepcopy(data_mini)\n",
    "fac[\"ents\"], fac[\"tags\"] = get_ent_rows(corr_df, \"FAC\")"
   ]
  },
  {
   "cell_type": "code",
   "execution_count": 313,
   "id": "5935c2e4",
   "metadata": {},
   "outputs": [
    {
     "data": {
      "text/html": [
       "<div>\n",
       "<style scoped>\n",
       "    .dataframe tbody tr th:only-of-type {\n",
       "        vertical-align: middle;\n",
       "    }\n",
       "\n",
       "    .dataframe tbody tr th {\n",
       "        vertical-align: top;\n",
       "    }\n",
       "\n",
       "    .dataframe thead th {\n",
       "        text-align: right;\n",
       "    }\n",
       "</style>\n",
       "<table border=\"1\" class=\"dataframe\">\n",
       "  <thead>\n",
       "    <tr style=\"text-align: right;\">\n",
       "      <th></th>\n",
       "      <th>City</th>\n",
       "      <th>Category</th>\n",
       "      <th>POI</th>\n",
       "      <th>Description</th>\n",
       "      <th>Country</th>\n",
       "      <th>ents</th>\n",
       "      <th>tags</th>\n",
       "    </tr>\n",
       "  </thead>\n",
       "  <tbody>\n",
       "    <tr>\n",
       "      <th>0</th>\n",
       "      <td>Cairo</td>\n",
       "      <td>sleep</td>\n",
       "      <td>Le Passage</td>\n",
       "      <td>was Iberotel</td>\n",
       "      <td>Egypt</td>\n",
       "      <td>[]</td>\n",
       "      <td>[]</td>\n",
       "    </tr>\n",
       "    <tr>\n",
       "      <th>1</th>\n",
       "      <td>Cairo</td>\n",
       "      <td>see</td>\n",
       "      <td>Egyptian Museum</td>\n",
       "      <td>Located in the Midan Tahrir area and officiall...</td>\n",
       "      <td>Egypt</td>\n",
       "      <td>[Midan Tahrir]</td>\n",
       "      <td>[FAC]</td>\n",
       "    </tr>\n",
       "    <tr>\n",
       "      <th>2</th>\n",
       "      <td>Cairo</td>\n",
       "      <td>see</td>\n",
       "      <td>Ibn Tulun</td>\n",
       "      <td>Arguably the oldest mosque in Cairo, built bet...</td>\n",
       "      <td>Egypt</td>\n",
       "      <td>[]</td>\n",
       "      <td>[]</td>\n",
       "    </tr>\n",
       "    <tr>\n",
       "      <th>3</th>\n",
       "      <td>Cairo</td>\n",
       "      <td>see</td>\n",
       "      <td>Al-Azhar Park</td>\n",
       "      <td>A recently opened landscaped gardens overlooki...</td>\n",
       "      <td>Egypt</td>\n",
       "      <td>[]</td>\n",
       "      <td>[]</td>\n",
       "    </tr>\n",
       "    <tr>\n",
       "      <th>4</th>\n",
       "      <td>Cairo</td>\n",
       "      <td>see</td>\n",
       "      <td>Khan El Khalily</td>\n",
       "      <td>Cairo's souk area where visitors will find man...</td>\n",
       "      <td>Egypt</td>\n",
       "      <td>[]</td>\n",
       "      <td>[]</td>\n",
       "    </tr>\n",
       "    <tr>\n",
       "      <th>5</th>\n",
       "      <td>Cairo</td>\n",
       "      <td>see</td>\n",
       "      <td>Abdeen Palace</td>\n",
       "      <td>Located about one Kilometer away from the Mida...</td>\n",
       "      <td>Egypt</td>\n",
       "      <td>[Kilometer, the Midan El-Tahrir]</td>\n",
       "      <td>[FAC, FAC]</td>\n",
       "    </tr>\n",
       "    <tr>\n",
       "      <th>6</th>\n",
       "      <td>Cairo</td>\n",
       "      <td>see</td>\n",
       "      <td>Pharaonic Village</td>\n",
       "      <td>It is about twenty minutes driving from Downtown.</td>\n",
       "      <td>Egypt</td>\n",
       "      <td>[]</td>\n",
       "      <td>[]</td>\n",
       "    </tr>\n",
       "    <tr>\n",
       "      <th>7</th>\n",
       "      <td>Cairo</td>\n",
       "      <td>do</td>\n",
       "      <td>The Culture Wheel</td>\n",
       "      <td>The largest independent cultural centre in Cai...</td>\n",
       "      <td>Egypt</td>\n",
       "      <td>[]</td>\n",
       "      <td>[]</td>\n",
       "    </tr>\n",
       "    <tr>\n",
       "      <th>8</th>\n",
       "      <td>Cairo</td>\n",
       "      <td>do</td>\n",
       "      <td>The Garden Theater</td>\n",
       "      <td>In Al-Azhar Park offers a range of musical per...</td>\n",
       "      <td>Egypt</td>\n",
       "      <td>[]</td>\n",
       "      <td>[]</td>\n",
       "    </tr>\n",
       "    <tr>\n",
       "      <th>9</th>\n",
       "      <td>Cairo</td>\n",
       "      <td>do</td>\n",
       "      <td>Cairo Opera House</td>\n",
       "      <td>It hosted the Cairo International Film Festiva...</td>\n",
       "      <td>Egypt</td>\n",
       "      <td>[]</td>\n",
       "      <td>[]</td>\n",
       "    </tr>\n",
       "  </tbody>\n",
       "</table>\n",
       "</div>"
      ],
      "text/plain": [
       "    City Category                 POI  \\\n",
       "0  Cairo    sleep          Le Passage   \n",
       "1  Cairo      see     Egyptian Museum   \n",
       "2  Cairo      see           Ibn Tulun   \n",
       "3  Cairo      see       Al-Azhar Park   \n",
       "4  Cairo      see     Khan El Khalily   \n",
       "5  Cairo      see       Abdeen Palace   \n",
       "6  Cairo      see   Pharaonic Village   \n",
       "7  Cairo       do   The Culture Wheel   \n",
       "8  Cairo       do  The Garden Theater   \n",
       "9  Cairo       do   Cairo Opera House   \n",
       "\n",
       "                                         Description Country  \\\n",
       "0                                       was Iberotel   Egypt   \n",
       "1  Located in the Midan Tahrir area and officiall...   Egypt   \n",
       "2  Arguably the oldest mosque in Cairo, built bet...   Egypt   \n",
       "3  A recently opened landscaped gardens overlooki...   Egypt   \n",
       "4  Cairo's souk area where visitors will find man...   Egypt   \n",
       "5  Located about one Kilometer away from the Mida...   Egypt   \n",
       "6  It is about twenty minutes driving from Downtown.   Egypt   \n",
       "7  The largest independent cultural centre in Cai...   Egypt   \n",
       "8  In Al-Azhar Park offers a range of musical per...   Egypt   \n",
       "9  It hosted the Cairo International Film Festiva...   Egypt   \n",
       "\n",
       "                               ents        tags  \n",
       "0                                []          []  \n",
       "1                    [Midan Tahrir]       [FAC]  \n",
       "2                                []          []  \n",
       "3                                []          []  \n",
       "4                                []          []  \n",
       "5  [Kilometer, the Midan El-Tahrir]  [FAC, FAC]  \n",
       "6                                []          []  \n",
       "7                                []          []  \n",
       "8                                []          []  \n",
       "9                                []          []  "
      ]
     },
     "execution_count": 313,
     "metadata": {},
     "output_type": "execute_result"
    }
   ],
   "source": [
    "fac.head(10)"
   ]
  },
  {
   "cell_type": "code",
   "execution_count": 225,
   "id": "f2c4f336",
   "metadata": {},
   "outputs": [],
   "source": [
    "event = copy.deepcopy(data_mini)\n",
    "event[\"ents\"], event[\"tags\"] = get_ent_rows(corr_df, \"EVENT\")"
   ]
  },
  {
   "cell_type": "code",
   "execution_count": 230,
   "id": "b692e131",
   "metadata": {},
   "outputs": [
    {
     "data": {
      "text/html": [
       "<div>\n",
       "<style scoped>\n",
       "    .dataframe tbody tr th:only-of-type {\n",
       "        vertical-align: middle;\n",
       "    }\n",
       "\n",
       "    .dataframe tbody tr th {\n",
       "        vertical-align: top;\n",
       "    }\n",
       "\n",
       "    .dataframe thead th {\n",
       "        text-align: right;\n",
       "    }\n",
       "</style>\n",
       "<table border=\"1\" class=\"dataframe\">\n",
       "  <thead>\n",
       "    <tr style=\"text-align: right;\">\n",
       "      <th></th>\n",
       "      <th>City</th>\n",
       "      <th>Category</th>\n",
       "      <th>POI</th>\n",
       "      <th>Description</th>\n",
       "      <th>Country</th>\n",
       "      <th>ents</th>\n",
       "      <th>tags</th>\n",
       "    </tr>\n",
       "  </thead>\n",
       "  <tbody>\n",
       "    <tr>\n",
       "      <th>606</th>\n",
       "      <td>Dublin</td>\n",
       "      <td>do</td>\n",
       "      <td>National Concert Hall</td>\n",
       "      <td>Offers classical concerts. Frequent performanc...</td>\n",
       "      <td>Ireland</td>\n",
       "      <td>[]</td>\n",
       "      <td>[]</td>\n",
       "    </tr>\n",
       "    <tr>\n",
       "      <th>607</th>\n",
       "      <td>Dublin</td>\n",
       "      <td>do</td>\n",
       "      <td>Bord Gáis Energy Theatre</td>\n",
       "      <td>The theatre offers a wide range of shows featu...</td>\n",
       "      <td>Ireland</td>\n",
       "      <td>[]</td>\n",
       "      <td>[]</td>\n",
       "    </tr>\n",
       "    <tr>\n",
       "      <th>608</th>\n",
       "      <td>Dublin</td>\n",
       "      <td>do</td>\n",
       "      <td>International Dublin Gay Theatre Festival</td>\n",
       "      <td>The International Dublin Gay Theatre Festival ...</td>\n",
       "      <td>Ireland</td>\n",
       "      <td>[]</td>\n",
       "      <td>[]</td>\n",
       "    </tr>\n",
       "    <tr>\n",
       "      <th>609</th>\n",
       "      <td>Dublin</td>\n",
       "      <td>do</td>\n",
       "      <td>Traditional games at Croke Park Stadium</td>\n",
       "      <td>Catch a '''hurling''' or [http://www.gaa.ie/ '...</td>\n",
       "      <td>Ireland</td>\n",
       "      <td>[the Guinness Book of World Records]</td>\n",
       "      <td>[EVENT]</td>\n",
       "    </tr>\n",
       "    <tr>\n",
       "      <th>610</th>\n",
       "      <td>Dublin</td>\n",
       "      <td>do</td>\n",
       "      <td>Tallaght Stadium</td>\n",
       "      <td>Watch a Shamrock Rovers F.C. soccer match duri...</td>\n",
       "      <td>Ireland</td>\n",
       "      <td>[]</td>\n",
       "      <td>[]</td>\n",
       "    </tr>\n",
       "    <tr>\n",
       "      <th>611</th>\n",
       "      <td>Dublin</td>\n",
       "      <td>do</td>\n",
       "      <td>RDS Arena</td>\n",
       "      <td>Occasional home games are played at '''Aviva S...</td>\n",
       "      <td>Ireland</td>\n",
       "      <td>[Heineken Cup, the Guinness Pro12]</td>\n",
       "      <td>[EVENT, EVENT]</td>\n",
       "    </tr>\n",
       "  </tbody>\n",
       "</table>\n",
       "</div>"
      ],
      "text/plain": [
       "       City Category                                        POI  \\\n",
       "606  Dublin       do                      National Concert Hall   \n",
       "607  Dublin       do                   Bord Gáis Energy Theatre   \n",
       "608  Dublin       do  International Dublin Gay Theatre Festival   \n",
       "609  Dublin       do    Traditional games at Croke Park Stadium   \n",
       "610  Dublin       do                           Tallaght Stadium   \n",
       "611  Dublin       do                                  RDS Arena   \n",
       "\n",
       "                                           Description  Country  \\\n",
       "606  Offers classical concerts. Frequent performanc...  Ireland   \n",
       "607  The theatre offers a wide range of shows featu...  Ireland   \n",
       "608  The International Dublin Gay Theatre Festival ...  Ireland   \n",
       "609  Catch a '''hurling''' or [http://www.gaa.ie/ '...  Ireland   \n",
       "610  Watch a Shamrock Rovers F.C. soccer match duri...  Ireland   \n",
       "611  Occasional home games are played at '''Aviva S...  Ireland   \n",
       "\n",
       "                                     ents            tags  \n",
       "606                                    []              []  \n",
       "607                                    []              []  \n",
       "608                                    []              []  \n",
       "609  [the Guinness Book of World Records]         [EVENT]  \n",
       "610                                    []              []  \n",
       "611    [Heineken Cup, the Guinness Pro12]  [EVENT, EVENT]  "
      ]
     },
     "execution_count": 230,
     "metadata": {},
     "output_type": "execute_result"
    }
   ],
   "source": [
    "event[606:612]"
   ]
  },
  {
   "cell_type": "code",
   "execution_count": 231,
   "id": "03e7d1d8",
   "metadata": {},
   "outputs": [],
   "source": [
    "date = copy.deepcopy(data_mini)\n",
    "date[\"ents\"], date[\"tags\"] = get_ent_rows(corr_df, \"DATE\")"
   ]
  },
  {
   "cell_type": "code",
   "execution_count": 233,
   "id": "1ab91004",
   "metadata": {},
   "outputs": [
    {
     "data": {
      "text/html": [
       "<div>\n",
       "<style scoped>\n",
       "    .dataframe tbody tr th:only-of-type {\n",
       "        vertical-align: middle;\n",
       "    }\n",
       "\n",
       "    .dataframe tbody tr th {\n",
       "        vertical-align: top;\n",
       "    }\n",
       "\n",
       "    .dataframe thead th {\n",
       "        text-align: right;\n",
       "    }\n",
       "</style>\n",
       "<table border=\"1\" class=\"dataframe\">\n",
       "  <thead>\n",
       "    <tr style=\"text-align: right;\">\n",
       "      <th></th>\n",
       "      <th>City</th>\n",
       "      <th>Category</th>\n",
       "      <th>POI</th>\n",
       "      <th>Description</th>\n",
       "      <th>Country</th>\n",
       "      <th>ents</th>\n",
       "      <th>tags</th>\n",
       "    </tr>\n",
       "  </thead>\n",
       "  <tbody>\n",
       "    <tr>\n",
       "      <th>5</th>\n",
       "      <td>Cairo</td>\n",
       "      <td>see</td>\n",
       "      <td>Abdeen Palace</td>\n",
       "      <td>Located about one Kilometer away from the Mida...</td>\n",
       "      <td>Egypt</td>\n",
       "      <td>[]</td>\n",
       "      <td>[]</td>\n",
       "    </tr>\n",
       "    <tr>\n",
       "      <th>6</th>\n",
       "      <td>Cairo</td>\n",
       "      <td>see</td>\n",
       "      <td>Pharaonic Village</td>\n",
       "      <td>It is about twenty minutes driving from Downtown.</td>\n",
       "      <td>Egypt</td>\n",
       "      <td>[]</td>\n",
       "      <td>[]</td>\n",
       "    </tr>\n",
       "    <tr>\n",
       "      <th>7</th>\n",
       "      <td>Cairo</td>\n",
       "      <td>do</td>\n",
       "      <td>The Culture Wheel</td>\n",
       "      <td>The largest independent cultural centre in Cai...</td>\n",
       "      <td>Egypt</td>\n",
       "      <td>[]</td>\n",
       "      <td>[]</td>\n",
       "    </tr>\n",
       "    <tr>\n",
       "      <th>8</th>\n",
       "      <td>Cairo</td>\n",
       "      <td>do</td>\n",
       "      <td>The Garden Theater</td>\n",
       "      <td>In Al-Azhar Park offers a range of musical per...</td>\n",
       "      <td>Egypt</td>\n",
       "      <td>[]</td>\n",
       "      <td>[]</td>\n",
       "    </tr>\n",
       "    <tr>\n",
       "      <th>9</th>\n",
       "      <td>Cairo</td>\n",
       "      <td>do</td>\n",
       "      <td>Cairo Opera House</td>\n",
       "      <td>It hosted the Cairo International Film Festiva...</td>\n",
       "      <td>Egypt</td>\n",
       "      <td>[2012]</td>\n",
       "      <td>[DATE]</td>\n",
       "    </tr>\n",
       "  </tbody>\n",
       "</table>\n",
       "</div>"
      ],
      "text/plain": [
       "    City Category                 POI  \\\n",
       "5  Cairo      see       Abdeen Palace   \n",
       "6  Cairo      see   Pharaonic Village   \n",
       "7  Cairo       do   The Culture Wheel   \n",
       "8  Cairo       do  The Garden Theater   \n",
       "9  Cairo       do   Cairo Opera House   \n",
       "\n",
       "                                         Description Country    ents    tags  \n",
       "5  Located about one Kilometer away from the Mida...   Egypt      []      []  \n",
       "6  It is about twenty minutes driving from Downtown.   Egypt      []      []  \n",
       "7  The largest independent cultural centre in Cai...   Egypt      []      []  \n",
       "8  In Al-Azhar Park offers a range of musical per...   Egypt      []      []  \n",
       "9  It hosted the Cairo International Film Festiva...   Egypt  [2012]  [DATE]  "
      ]
     },
     "execution_count": 233,
     "metadata": {},
     "output_type": "execute_result"
    }
   ],
   "source": [
    "date[5:10]"
   ]
  },
  {
   "cell_type": "code",
   "execution_count": 234,
   "id": "34c1f943",
   "metadata": {},
   "outputs": [],
   "source": [
    "money = copy.deepcopy(data_mini)\n",
    "money[\"ents\"], money[\"tags\"] = get_ent_rows(corr_df, \"MONEY\")"
   ]
  },
  {
   "cell_type": "code",
   "execution_count": 237,
   "id": "8c0c86a1",
   "metadata": {},
   "outputs": [
    {
     "data": {
      "text/html": [
       "<div>\n",
       "<style scoped>\n",
       "    .dataframe tbody tr th:only-of-type {\n",
       "        vertical-align: middle;\n",
       "    }\n",
       "\n",
       "    .dataframe tbody tr th {\n",
       "        vertical-align: top;\n",
       "    }\n",
       "\n",
       "    .dataframe thead th {\n",
       "        text-align: right;\n",
       "    }\n",
       "</style>\n",
       "<table border=\"1\" class=\"dataframe\">\n",
       "  <thead>\n",
       "    <tr style=\"text-align: right;\">\n",
       "      <th></th>\n",
       "      <th>City</th>\n",
       "      <th>Category</th>\n",
       "      <th>POI</th>\n",
       "      <th>Description</th>\n",
       "      <th>Country</th>\n",
       "      <th>ents</th>\n",
       "      <th>tags</th>\n",
       "    </tr>\n",
       "  </thead>\n",
       "  <tbody>\n",
       "    <tr>\n",
       "      <th>1000</th>\n",
       "      <td>Las Vegas</td>\n",
       "      <td>sleep</td>\n",
       "      <td>Sam's Town</td>\n",
       "      <td>Large motel property with considerable parking...</td>\n",
       "      <td>USA</td>\n",
       "      <td>[]</td>\n",
       "      <td>[]</td>\n",
       "    </tr>\n",
       "    <tr>\n",
       "      <th>1001</th>\n",
       "      <td>Las Vegas</td>\n",
       "      <td>other</td>\n",
       "      <td>Elysium Internet Cafe</td>\n",
       "      <td>$3/hr, or connect to it for free!</td>\n",
       "      <td>USA</td>\n",
       "      <td>[3]</td>\n",
       "      <td>[MONEY]</td>\n",
       "    </tr>\n",
       "    <tr>\n",
       "      <th>1002</th>\n",
       "      <td>Las Vegas</td>\n",
       "      <td>other</td>\n",
       "      <td>Spring Mountains</td>\n",
       "      <td>Five peaks over 11,000' which is Bristlecone P...</td>\n",
       "      <td>USA</td>\n",
       "      <td>[]</td>\n",
       "      <td>[]</td>\n",
       "    </tr>\n",
       "    <tr>\n",
       "      <th>1003</th>\n",
       "      <td>Las Vegas</td>\n",
       "      <td>other</td>\n",
       "      <td>Las Vegas Ski and Snowboard Resort</td>\n",
       "      <td>45 minutes from Las Vegas.</td>\n",
       "      <td>USA</td>\n",
       "      <td>[]</td>\n",
       "      <td>[]</td>\n",
       "    </tr>\n",
       "    <tr>\n",
       "      <th>1004</th>\n",
       "      <td>Las Vegas</td>\n",
       "      <td>other</td>\n",
       "      <td>Brian Head Resort</td>\n",
       "      <td>Offers more vertical feet but is about a three...</td>\n",
       "      <td>USA</td>\n",
       "      <td>[]</td>\n",
       "      <td>[]</td>\n",
       "    </tr>\n",
       "  </tbody>\n",
       "</table>\n",
       "</div>"
      ],
      "text/plain": [
       "           City Category                                 POI  \\\n",
       "1000  Las Vegas    sleep                          Sam's Town   \n",
       "1001  Las Vegas    other               Elysium Internet Cafe   \n",
       "1002  Las Vegas    other                    Spring Mountains   \n",
       "1003  Las Vegas    other  Las Vegas Ski and Snowboard Resort   \n",
       "1004  Las Vegas    other                   Brian Head Resort   \n",
       "\n",
       "                                            Description Country ents     tags  \n",
       "1000  Large motel property with considerable parking...     USA   []       []  \n",
       "1001                  $3/hr, or connect to it for free!     USA  [3]  [MONEY]  \n",
       "1002  Five peaks over 11,000' which is Bristlecone P...     USA   []       []  \n",
       "1003                         45 minutes from Las Vegas.     USA   []       []  \n",
       "1004  Offers more vertical feet but is about a three...     USA   []       []  "
      ]
     },
     "execution_count": 237,
     "metadata": {},
     "output_type": "execute_result"
    }
   ],
   "source": [
    "money[1000:1005]"
   ]
  },
  {
   "cell_type": "code",
   "execution_count": 238,
   "id": "15c52303",
   "metadata": {},
   "outputs": [],
   "source": [
    "# ents = []\n",
    "# tags = []\n",
    "# ent_list = []\n",
    "# tag_list = []\n",
    "# for i, row in enumerate(corr_df[\"annotation\"]):\n",
    "#     for e in row:\n",
    "#         start, end = e[0],e[1]\n",
    "#         ent_list.append(corr_df.iloc[i][\"document\"][start:end])\n",
    "#         tag_list.append(e[2])\n",
    "# #     print(ent_list)\n",
    "# #     print(tag_list)\n",
    "#     ents.append(ent_list)\n",
    "#     tags.append(tag_list)\n",
    "#     ent_list = []\n",
    "#     tag_list = []"
   ]
  },
  {
   "cell_type": "code",
   "execution_count": 239,
   "id": "e5087a7d",
   "metadata": {},
   "outputs": [],
   "source": [
    "# data_mini_modified = copy.deepcopy(data_mini)"
   ]
  },
  {
   "cell_type": "code",
   "execution_count": 240,
   "id": "7f6cbaf6",
   "metadata": {},
   "outputs": [],
   "source": [
    "# data_mini_modified[\"ents\"] = ents\n",
    "# data_mini_modified[\"tags\"] = tags"
   ]
  },
  {
   "cell_type": "code",
   "execution_count": 241,
   "id": "79430fad",
   "metadata": {},
   "outputs": [],
   "source": [
    "# data_mini_modified"
   ]
  },
  {
   "cell_type": "code",
   "execution_count": 306,
   "id": "4037addc",
   "metadata": {},
   "outputs": [
    {
     "data": {
      "text/plain": [
       "ORG      3765\n",
       "FAC      1142\n",
       "LOC       896\n",
       "DATE     2350\n",
       "MONEY     280\n",
       "EVENT     126\n",
       "dtype: int64"
      ]
     },
     "execution_count": 306,
     "metadata": {},
     "output_type": "execute_result"
    }
   ],
   "source": [
    "pd.Series(Counter(chain.from_iterable(data_mini_modified[\"tags\"])))"
   ]
  },
  {
   "cell_type": "code",
   "execution_count": 244,
   "id": "f85fa8f8",
   "metadata": {},
   "outputs": [
    {
     "data": {
      "text/plain": [
       "Midan Tahrir              1\n",
       "Kilometer                 1\n",
       "the Midan El-Tahrir       1\n",
       "Dokki Metro               1\n",
       "mosques                   5\n",
       "                         ..\n",
       "Ramleh Station            3\n",
       "Cecil Hotel               1\n",
       "the Alexandria Library    1\n",
       "the Montazah Palace       1\n",
       "Grand Plaza               1\n",
       "Length: 594, dtype: int64"
      ]
     },
     "execution_count": 244,
     "metadata": {},
     "output_type": "execute_result"
    }
   ],
   "source": [
    "pd.Series(Counter(chain.from_iterable(fac[\"ents\"])))"
   ]
  },
  {
   "cell_type": "markdown",
   "id": "2150dfab",
   "metadata": {},
   "source": [
    "---"
   ]
  },
  {
   "cell_type": "markdown",
   "id": "efe51616",
   "metadata": {},
   "source": [
    "## Connection to Neo4j"
   ]
  },
  {
   "cell_type": "code",
   "execution_count": 8,
   "id": "cc585de4",
   "metadata": {},
   "outputs": [],
   "source": [
    "host = 'bolt://localhost:7687'\n",
    "user = 'mr'\n",
    "password = 'mrneo4j'\n",
    "driver = GraphDatabase.driver(host,auth=(user, password))"
   ]
  },
  {
   "cell_type": "code",
   "execution_count": 70,
   "id": "a29de5de",
   "metadata": {},
   "outputs": [],
   "source": [
    "# def insert_data(query, rows, batch_size = 500):\n",
    "#     # Function to handle the updating the Neo4j database in batch mode.\n",
    "    \n",
    "#     batch = 0\n",
    "    \n",
    "#     while batch * batch_size < len(rows):\n",
    "\n",
    "#         result = conn.query(query, \n",
    "#                          parameters = {'rows': rows[batch*batch_size:(batch+1)*batch_size].to_dict('records')})\n",
    "#         batch += 1\n",
    "    \n",
    "# #     print(pd.DataFrame([dict(_) for _ in result]))\n",
    "        \n",
    "#     return pd.DataFrame([dict(_) for _ in result])"
   ]
  },
  {
   "cell_type": "code",
   "execution_count": 9,
   "id": "8006e2fe",
   "metadata": {},
   "outputs": [],
   "source": [
    "def neo4j_query(query, params=None):\n",
    "    with driver.session() as session:\n",
    "        result = session.run(query, params)\n",
    "        return pd.DataFrame([r.values() for r in result], columns=result.keys())"
   ]
  },
  {
   "cell_type": "markdown",
   "id": "bc98c4a9",
   "metadata": {},
   "source": [
    "---"
   ]
  },
  {
   "cell_type": "markdown",
   "id": "0a9e460c",
   "metadata": {},
   "source": [
    "## Build Knowledge Graph"
   ]
  },
  {
   "cell_type": "code",
   "execution_count": 280,
   "id": "3b073064",
   "metadata": {},
   "outputs": [
    {
     "data": {
      "text/html": [
       "<div>\n",
       "<style scoped>\n",
       "    .dataframe tbody tr th:only-of-type {\n",
       "        vertical-align: middle;\n",
       "    }\n",
       "\n",
       "    .dataframe tbody tr th {\n",
       "        vertical-align: top;\n",
       "    }\n",
       "\n",
       "    .dataframe thead th {\n",
       "        text-align: right;\n",
       "    }\n",
       "</style>\n",
       "<table border=\"1\" class=\"dataframe\">\n",
       "  <thead>\n",
       "    <tr style=\"text-align: right;\">\n",
       "      <th></th>\n",
       "    </tr>\n",
       "  </thead>\n",
       "  <tbody>\n",
       "  </tbody>\n",
       "</table>\n",
       "</div>"
      ],
      "text/plain": [
       "Empty DataFrame\n",
       "Columns: []\n",
       "Index: []"
      ]
     },
     "execution_count": 280,
     "metadata": {},
     "output_type": "execute_result"
    }
   ],
   "source": [
    "#Remove any existing nodes and relations\n",
    "neo4j_query(\"\"\"\n",
    "MATCH (n) DETACH DELETE n;\n",
    "\"\"\")"
   ]
  },
  {
   "cell_type": "code",
   "execution_count": 281,
   "id": "ca3172ea",
   "metadata": {},
   "outputs": [
    {
     "data": {
      "text/html": [
       "<div>\n",
       "<style scoped>\n",
       "    .dataframe tbody tr th:only-of-type {\n",
       "        vertical-align: middle;\n",
       "    }\n",
       "\n",
       "    .dataframe tbody tr th {\n",
       "        vertical-align: top;\n",
       "    }\n",
       "\n",
       "    .dataframe thead th {\n",
       "        text-align: right;\n",
       "    }\n",
       "</style>\n",
       "<table border=\"1\" class=\"dataframe\">\n",
       "  <thead>\n",
       "    <tr style=\"text-align: right;\">\n",
       "      <th></th>\n",
       "    </tr>\n",
       "  </thead>\n",
       "  <tbody>\n",
       "  </tbody>\n",
       "</table>\n",
       "</div>"
      ],
      "text/plain": [
       "Empty DataFrame\n",
       "Columns: []\n",
       "Index: []"
      ]
     },
     "execution_count": 281,
     "metadata": {},
     "output_type": "execute_result"
    }
   ],
   "source": [
    "#Create Constraints\n",
    "neo4j_query(\"\"\"\n",
    "CREATE CONSTRAINT poi IF NOT EXISTS ON (poi:POI) ASSERT poi.name IS UNIQUE\n",
    "\"\"\")\n",
    "\n",
    "neo4j_query(\"\"\"\n",
    "CREATE CONSTRAINT city IF NOT EXISTS ON (ci:City) ASSERT ci.name IS UNIQUE\n",
    "\"\"\")\n",
    "\n",
    "neo4j_query(\"\"\"\n",
    "CREATE CONSTRAINT country IF NOT EXISTS ON (co:Country) ASSERT co.name IS UNIQUE\n",
    "\"\"\")"
   ]
  },
  {
   "cell_type": "code",
   "execution_count": 282,
   "id": "540770d3",
   "metadata": {},
   "outputs": [],
   "source": [
    "#Create POI nodes\n",
    "query1 = (\"\"\"\n",
    "UNWIND $rows as row\n",
    "MERGE (poi:POI {name:row.POI}) \n",
    "ON CREATE SET poi.category=row.Category\n",
    "\n",
    "RETURN count(distinct poi) as POIcount\n",
    "\"\"\")"
   ]
  },
  {
   "cell_type": "code",
   "execution_count": 283,
   "id": "a55a4eed",
   "metadata": {},
   "outputs": [
    {
     "data": {
      "text/html": [
       "<div>\n",
       "<style scoped>\n",
       "    .dataframe tbody tr th:only-of-type {\n",
       "        vertical-align: middle;\n",
       "    }\n",
       "\n",
       "    .dataframe tbody tr th {\n",
       "        vertical-align: top;\n",
       "    }\n",
       "\n",
       "    .dataframe thead th {\n",
       "        text-align: right;\n",
       "    }\n",
       "</style>\n",
       "<table border=\"1\" class=\"dataframe\">\n",
       "  <thead>\n",
       "    <tr style=\"text-align: right;\">\n",
       "      <th></th>\n",
       "      <th>POIcount</th>\n",
       "    </tr>\n",
       "  </thead>\n",
       "  <tbody>\n",
       "    <tr>\n",
       "      <th>0</th>\n",
       "      <td>2881</td>\n",
       "    </tr>\n",
       "  </tbody>\n",
       "</table>\n",
       "</div>"
      ],
      "text/plain": [
       "   POIcount\n",
       "0      2881"
      ]
     },
     "execution_count": 283,
     "metadata": {},
     "output_type": "execute_result"
    }
   ],
   "source": [
    "neo4j_query(query1, params = {\"rows\":data_mini.to_dict('records')})"
   ]
  },
  {
   "cell_type": "code",
   "execution_count": 284,
   "id": "bc8fbc43",
   "metadata": {},
   "outputs": [],
   "source": [
    "#Create City nodes\n",
    "query2 = (\"\"\"\n",
    "UNWIND $rows as row\n",
    "MERGE (ci:City {name:row.City})\n",
    "RETURN count(distinct ci) as CityCount\n",
    "\"\"\")"
   ]
  },
  {
   "cell_type": "code",
   "execution_count": 285,
   "id": "42644768",
   "metadata": {},
   "outputs": [
    {
     "data": {
      "text/html": [
       "<div>\n",
       "<style scoped>\n",
       "    .dataframe tbody tr th:only-of-type {\n",
       "        vertical-align: middle;\n",
       "    }\n",
       "\n",
       "    .dataframe tbody tr th {\n",
       "        vertical-align: top;\n",
       "    }\n",
       "\n",
       "    .dataframe thead th {\n",
       "        text-align: right;\n",
       "    }\n",
       "</style>\n",
       "<table border=\"1\" class=\"dataframe\">\n",
       "  <thead>\n",
       "    <tr style=\"text-align: right;\">\n",
       "      <th></th>\n",
       "      <th>CityCount</th>\n",
       "    </tr>\n",
       "  </thead>\n",
       "  <tbody>\n",
       "    <tr>\n",
       "      <th>0</th>\n",
       "      <td>12</td>\n",
       "    </tr>\n",
       "  </tbody>\n",
       "</table>\n",
       "</div>"
      ],
      "text/plain": [
       "   CityCount\n",
       "0         12"
      ]
     },
     "execution_count": 285,
     "metadata": {},
     "output_type": "execute_result"
    }
   ],
   "source": [
    "neo4j_query(query2, params = {\"rows\":data_mini.to_dict('records')})"
   ]
  },
  {
   "cell_type": "code",
   "execution_count": 286,
   "id": "b68b7ae8",
   "metadata": {},
   "outputs": [],
   "source": [
    "#Create Country nodes\n",
    "query3 = (\"\"\"\n",
    "UNWIND $rows as row\n",
    "MERGE (co:Country {name:row.Country})\n",
    "RETURN count(distinct co) as CountryCount\n",
    "\"\"\")"
   ]
  },
  {
   "cell_type": "code",
   "execution_count": 287,
   "id": "afe6af8a",
   "metadata": {},
   "outputs": [
    {
     "data": {
      "text/html": [
       "<div>\n",
       "<style scoped>\n",
       "    .dataframe tbody tr th:only-of-type {\n",
       "        vertical-align: middle;\n",
       "    }\n",
       "\n",
       "    .dataframe tbody tr th {\n",
       "        vertical-align: top;\n",
       "    }\n",
       "\n",
       "    .dataframe thead th {\n",
       "        text-align: right;\n",
       "    }\n",
       "</style>\n",
       "<table border=\"1\" class=\"dataframe\">\n",
       "  <thead>\n",
       "    <tr style=\"text-align: right;\">\n",
       "      <th></th>\n",
       "      <th>CountryCount</th>\n",
       "    </tr>\n",
       "  </thead>\n",
       "  <tbody>\n",
       "    <tr>\n",
       "      <th>0</th>\n",
       "      <td>9</td>\n",
       "    </tr>\n",
       "  </tbody>\n",
       "</table>\n",
       "</div>"
      ],
      "text/plain": [
       "   CountryCount\n",
       "0             9"
      ]
     },
     "execution_count": 287,
     "metadata": {},
     "output_type": "execute_result"
    }
   ],
   "source": [
    "neo4j_query(query3, params = {\"rows\":data_mini.to_dict('records')})"
   ]
  },
  {
   "cell_type": "code",
   "execution_count": 288,
   "id": "e0e037f8",
   "metadata": {},
   "outputs": [],
   "source": [
    "#Create in_City relation\n",
    "query4 = (\"\"\"\n",
    "UNWIND $rows as row\n",
    "MATCH (poi:POI {name:row.POI}) \n",
    "MATCH (ci:City {name:row.City})\n",
    "MERGE (poi)-[r1:in_City]->(ci)\n",
    "RETURN count(distinct r1) as R1Count\n",
    "\"\"\")"
   ]
  },
  {
   "cell_type": "code",
   "execution_count": 289,
   "id": "87b8dac7",
   "metadata": {},
   "outputs": [
    {
     "data": {
      "text/html": [
       "<div>\n",
       "<style scoped>\n",
       "    .dataframe tbody tr th:only-of-type {\n",
       "        vertical-align: middle;\n",
       "    }\n",
       "\n",
       "    .dataframe tbody tr th {\n",
       "        vertical-align: top;\n",
       "    }\n",
       "\n",
       "    .dataframe thead th {\n",
       "        text-align: right;\n",
       "    }\n",
       "</style>\n",
       "<table border=\"1\" class=\"dataframe\">\n",
       "  <thead>\n",
       "    <tr style=\"text-align: right;\">\n",
       "      <th></th>\n",
       "      <th>R1Count</th>\n",
       "    </tr>\n",
       "  </thead>\n",
       "  <tbody>\n",
       "    <tr>\n",
       "      <th>0</th>\n",
       "      <td>2891</td>\n",
       "    </tr>\n",
       "  </tbody>\n",
       "</table>\n",
       "</div>"
      ],
      "text/plain": [
       "   R1Count\n",
       "0     2891"
      ]
     },
     "execution_count": 289,
     "metadata": {},
     "output_type": "execute_result"
    }
   ],
   "source": [
    "neo4j_query(query4, params = {\"rows\":data_mini.to_dict('records')})"
   ]
  },
  {
   "cell_type": "code",
   "execution_count": 290,
   "id": "cfac5971",
   "metadata": {},
   "outputs": [],
   "source": [
    "#Create in_Country relation\n",
    "query5 = (\"\"\"\n",
    "UNWIND $rows as row\n",
    "MATCH (poi:POI {name:row.POI}) \n",
    "MATCH (co:Country {name:row.Country})\n",
    "MERGE (poi)-[r2:in_Country]->(co)\n",
    "RETURN count(distinct r2) as R2Count\n",
    "\"\"\")"
   ]
  },
  {
   "cell_type": "code",
   "execution_count": 291,
   "id": "e6e15341",
   "metadata": {},
   "outputs": [
    {
     "data": {
      "text/html": [
       "<div>\n",
       "<style scoped>\n",
       "    .dataframe tbody tr th:only-of-type {\n",
       "        vertical-align: middle;\n",
       "    }\n",
       "\n",
       "    .dataframe tbody tr th {\n",
       "        vertical-align: top;\n",
       "    }\n",
       "\n",
       "    .dataframe thead th {\n",
       "        text-align: right;\n",
       "    }\n",
       "</style>\n",
       "<table border=\"1\" class=\"dataframe\">\n",
       "  <thead>\n",
       "    <tr style=\"text-align: right;\">\n",
       "      <th></th>\n",
       "      <th>R2Count</th>\n",
       "    </tr>\n",
       "  </thead>\n",
       "  <tbody>\n",
       "    <tr>\n",
       "      <th>0</th>\n",
       "      <td>2887</td>\n",
       "    </tr>\n",
       "  </tbody>\n",
       "</table>\n",
       "</div>"
      ],
      "text/plain": [
       "   R2Count\n",
       "0     2887"
      ]
     },
     "execution_count": 291,
     "metadata": {},
     "output_type": "execute_result"
    }
   ],
   "source": [
    "neo4j_query(query5, params = {\"rows\":data_mini.to_dict('records')})"
   ]
  },
  {
   "cell_type": "code",
   "execution_count": 292,
   "id": "75cf99a1",
   "metadata": {},
   "outputs": [],
   "source": [
    "#Add Description of each POI\n",
    "query6 = (\"\"\"\n",
    "UNWIND $rows as row\n",
    "MATCH (poi:POI {name:row.POI}) \n",
    "SET poi.description=row.Description\n",
    "RETURN poi.name, poi.category, poi.description\n",
    "\"\"\")"
   ]
  },
  {
   "cell_type": "code",
   "execution_count": 293,
   "id": "4077a39f",
   "metadata": {},
   "outputs": [
    {
     "data": {
      "text/html": [
       "<div>\n",
       "<style scoped>\n",
       "    .dataframe tbody tr th:only-of-type {\n",
       "        vertical-align: middle;\n",
       "    }\n",
       "\n",
       "    .dataframe tbody tr th {\n",
       "        vertical-align: top;\n",
       "    }\n",
       "\n",
       "    .dataframe thead th {\n",
       "        text-align: right;\n",
       "    }\n",
       "</style>\n",
       "<table border=\"1\" class=\"dataframe\">\n",
       "  <thead>\n",
       "    <tr style=\"text-align: right;\">\n",
       "      <th></th>\n",
       "      <th>poi.name</th>\n",
       "      <th>poi.category</th>\n",
       "      <th>poi.description</th>\n",
       "    </tr>\n",
       "  </thead>\n",
       "  <tbody>\n",
       "    <tr>\n",
       "      <th>0</th>\n",
       "      <td>Le Passage</td>\n",
       "      <td>sleep</td>\n",
       "      <td>was Iberotel</td>\n",
       "    </tr>\n",
       "    <tr>\n",
       "      <th>1</th>\n",
       "      <td>Egyptian Museum</td>\n",
       "      <td>see</td>\n",
       "      <td>A must for any visitor to Cairo. The Gold Room...</td>\n",
       "    </tr>\n",
       "    <tr>\n",
       "      <th>2</th>\n",
       "      <td>Ibn Tulun</td>\n",
       "      <td>see</td>\n",
       "      <td>Arguably the oldest mosque in Cairo, built bet...</td>\n",
       "    </tr>\n",
       "    <tr>\n",
       "      <th>3</th>\n",
       "      <td>Al-Azhar Park</td>\n",
       "      <td>see</td>\n",
       "      <td>The Al-Azhar Park is overlooking Darb al-Ahmar...</td>\n",
       "    </tr>\n",
       "    <tr>\n",
       "      <th>4</th>\n",
       "      <td>Khan El Khalily</td>\n",
       "      <td>see</td>\n",
       "      <td>Cairo's souk area where visitors will find man...</td>\n",
       "    </tr>\n",
       "    <tr>\n",
       "      <th>...</th>\n",
       "      <td>...</td>\n",
       "      <td>...</td>\n",
       "      <td>...</td>\n",
       "    </tr>\n",
       "    <tr>\n",
       "      <th>2930</th>\n",
       "      <td>Hyatt Regency Sharm El Sheikh</td>\n",
       "      <td>sleep</td>\n",
       "      <td>5 star resort style hotel with 439 rooms and s...</td>\n",
       "    </tr>\n",
       "    <tr>\n",
       "      <th>2931</th>\n",
       "      <td>Noria Resort</td>\n",
       "      <td>sleep</td>\n",
       "      <td>It has been built in traditional Roman Style. ...</td>\n",
       "    </tr>\n",
       "    <tr>\n",
       "      <th>2932</th>\n",
       "      <td>Ritz Carlton</td>\n",
       "      <td>sleep</td>\n",
       "      <td>Spa, diving and snorkelling from the hotel.</td>\n",
       "    </tr>\n",
       "    <tr>\n",
       "      <th>2933</th>\n",
       "      <td>The Cleopatra Luxury Resort Collection</td>\n",
       "      <td>sleep</td>\n",
       "      <td>Spa, diving and snorkelling from the hotel.</td>\n",
       "    </tr>\n",
       "    <tr>\n",
       "      <th>2934</th>\n",
       "      <td>Jaz Mirabel Beach</td>\n",
       "      <td>sleep</td>\n",
       "      <td>az Mirabel Beach offers stunning views of the ...</td>\n",
       "    </tr>\n",
       "  </tbody>\n",
       "</table>\n",
       "<p>2935 rows × 3 columns</p>\n",
       "</div>"
      ],
      "text/plain": [
       "                                    poi.name poi.category  \\\n",
       "0                                 Le Passage        sleep   \n",
       "1                            Egyptian Museum          see   \n",
       "2                                  Ibn Tulun          see   \n",
       "3                              Al-Azhar Park          see   \n",
       "4                            Khan El Khalily          see   \n",
       "...                                      ...          ...   \n",
       "2930           Hyatt Regency Sharm El Sheikh        sleep   \n",
       "2931                            Noria Resort        sleep   \n",
       "2932                            Ritz Carlton        sleep   \n",
       "2933  The Cleopatra Luxury Resort Collection        sleep   \n",
       "2934                       Jaz Mirabel Beach        sleep   \n",
       "\n",
       "                                        poi.description  \n",
       "0                                          was Iberotel  \n",
       "1     A must for any visitor to Cairo. The Gold Room...  \n",
       "2     Arguably the oldest mosque in Cairo, built bet...  \n",
       "3     The Al-Azhar Park is overlooking Darb al-Ahmar...  \n",
       "4     Cairo's souk area where visitors will find man...  \n",
       "...                                                 ...  \n",
       "2930  5 star resort style hotel with 439 rooms and s...  \n",
       "2931  It has been built in traditional Roman Style. ...  \n",
       "2932        Spa, diving and snorkelling from the hotel.  \n",
       "2933        Spa, diving and snorkelling from the hotel.  \n",
       "2934  az Mirabel Beach offers stunning views of the ...  \n",
       "\n",
       "[2935 rows x 3 columns]"
      ]
     },
     "execution_count": 293,
     "metadata": {},
     "output_type": "execute_result"
    }
   ],
   "source": [
    "neo4j_query(query6, params = {\"rows\":data_mini.to_dict('records')})"
   ]
  },
  {
   "cell_type": "markdown",
   "id": "fa864bb7",
   "metadata": {},
   "source": [
    "---"
   ]
  },
  {
   "cell_type": "markdown",
   "id": "16d0f0c5",
   "metadata": {},
   "source": [
    "## Add more Properties, Nodes & Relations to the Graph"
   ]
  },
  {
   "cell_type": "markdown",
   "id": "d490c85d",
   "metadata": {},
   "source": [
    "**Properties of POIs from Entities:**\n",
    "* DATE: relatedDates\n",
    "* MONEY: hasCost\n",
    "\n",
    "**Relations of POIs from Entities:**\n",
    "* FAC: nearby_Facility\n",
    "* LOC: nearby_Touristic_Location\n",
    "* EVENT: related_Event\n",
    "* ORG: nearby_Organization\n"
   ]
  },
  {
   "cell_type": "markdown",
   "id": "84fd2cb9",
   "metadata": {},
   "source": [
    "### POIs additional properties"
   ]
  },
  {
   "cell_type": "code",
   "execution_count": 294,
   "id": "306e89d4",
   "metadata": {},
   "outputs": [],
   "source": [
    "#Add relatedDates property of each POI\n",
    "query7 = (\"\"\"\n",
    "UNWIND $rows as row\n",
    "MATCH (poi:POI {name:row.POI}) \n",
    "SET poi.relatedDates=row.ents\n",
    "RETURN poi.name, poi.category, poi.relatedDates\n",
    "\"\"\")"
   ]
  },
  {
   "cell_type": "code",
   "execution_count": 295,
   "id": "1a2e5747",
   "metadata": {},
   "outputs": [
    {
     "data": {
      "text/html": [
       "<div>\n",
       "<style scoped>\n",
       "    .dataframe tbody tr th:only-of-type {\n",
       "        vertical-align: middle;\n",
       "    }\n",
       "\n",
       "    .dataframe tbody tr th {\n",
       "        vertical-align: top;\n",
       "    }\n",
       "\n",
       "    .dataframe thead th {\n",
       "        text-align: right;\n",
       "    }\n",
       "</style>\n",
       "<table border=\"1\" class=\"dataframe\">\n",
       "  <thead>\n",
       "    <tr style=\"text-align: right;\">\n",
       "      <th></th>\n",
       "      <th>poi.name</th>\n",
       "      <th>poi.category</th>\n",
       "      <th>poi.relatedDates</th>\n",
       "    </tr>\n",
       "  </thead>\n",
       "  <tbody>\n",
       "    <tr>\n",
       "      <th>0</th>\n",
       "      <td>Le Passage</td>\n",
       "      <td>sleep</td>\n",
       "      <td>[]</td>\n",
       "    </tr>\n",
       "    <tr>\n",
       "      <th>1</th>\n",
       "      <td>Egyptian Museum</td>\n",
       "      <td>see</td>\n",
       "      <td>[]</td>\n",
       "    </tr>\n",
       "    <tr>\n",
       "      <th>2</th>\n",
       "      <td>Ibn Tulun</td>\n",
       "      <td>see</td>\n",
       "      <td>[]</td>\n",
       "    </tr>\n",
       "    <tr>\n",
       "      <th>3</th>\n",
       "      <td>Al-Azhar Park</td>\n",
       "      <td>see</td>\n",
       "      <td>[today]</td>\n",
       "    </tr>\n",
       "    <tr>\n",
       "      <th>4</th>\n",
       "      <td>Khan El Khalily</td>\n",
       "      <td>see</td>\n",
       "      <td>[]</td>\n",
       "    </tr>\n",
       "    <tr>\n",
       "      <th>...</th>\n",
       "      <td>...</td>\n",
       "      <td>...</td>\n",
       "      <td>...</td>\n",
       "    </tr>\n",
       "    <tr>\n",
       "      <th>2930</th>\n",
       "      <td>Hyatt Regency Sharm El Sheikh</td>\n",
       "      <td>sleep</td>\n",
       "      <td>[]</td>\n",
       "    </tr>\n",
       "    <tr>\n",
       "      <th>2931</th>\n",
       "      <td>Noria Resort</td>\n",
       "      <td>sleep</td>\n",
       "      <td>[]</td>\n",
       "    </tr>\n",
       "    <tr>\n",
       "      <th>2932</th>\n",
       "      <td>Ritz Carlton</td>\n",
       "      <td>sleep</td>\n",
       "      <td>[]</td>\n",
       "    </tr>\n",
       "    <tr>\n",
       "      <th>2933</th>\n",
       "      <td>The Cleopatra Luxury Resort Collection</td>\n",
       "      <td>sleep</td>\n",
       "      <td>[]</td>\n",
       "    </tr>\n",
       "    <tr>\n",
       "      <th>2934</th>\n",
       "      <td>Jaz Mirabel Beach</td>\n",
       "      <td>sleep</td>\n",
       "      <td>[]</td>\n",
       "    </tr>\n",
       "  </tbody>\n",
       "</table>\n",
       "<p>2935 rows × 3 columns</p>\n",
       "</div>"
      ],
      "text/plain": [
       "                                    poi.name poi.category poi.relatedDates\n",
       "0                                 Le Passage        sleep               []\n",
       "1                            Egyptian Museum          see               []\n",
       "2                                  Ibn Tulun          see               []\n",
       "3                              Al-Azhar Park          see          [today]\n",
       "4                            Khan El Khalily          see               []\n",
       "...                                      ...          ...              ...\n",
       "2930           Hyatt Regency Sharm El Sheikh        sleep               []\n",
       "2931                            Noria Resort        sleep               []\n",
       "2932                            Ritz Carlton        sleep               []\n",
       "2933  The Cleopatra Luxury Resort Collection        sleep               []\n",
       "2934                       Jaz Mirabel Beach        sleep               []\n",
       "\n",
       "[2935 rows x 3 columns]"
      ]
     },
     "execution_count": 295,
     "metadata": {},
     "output_type": "execute_result"
    }
   ],
   "source": [
    "neo4j_query(query7, params = {\"rows\":date.to_dict('records')})"
   ]
  },
  {
   "cell_type": "code",
   "execution_count": 299,
   "id": "2f90bf3b",
   "metadata": {},
   "outputs": [],
   "source": [
    "#Add hasCost property of each POI\n",
    "query8 = (\"\"\"\n",
    "UNWIND $rows as row\n",
    "MATCH (poi:POI {name:row.POI}) \n",
    "SET poi.hasCosts=row.ents\n",
    "RETURN poi.name, poi.category, poi.hasCosts\n",
    "\"\"\")"
   ]
  },
  {
   "cell_type": "code",
   "execution_count": 300,
   "id": "4becc66c",
   "metadata": {},
   "outputs": [
    {
     "data": {
      "text/html": [
       "<div>\n",
       "<style scoped>\n",
       "    .dataframe tbody tr th:only-of-type {\n",
       "        vertical-align: middle;\n",
       "    }\n",
       "\n",
       "    .dataframe tbody tr th {\n",
       "        vertical-align: top;\n",
       "    }\n",
       "\n",
       "    .dataframe thead th {\n",
       "        text-align: right;\n",
       "    }\n",
       "</style>\n",
       "<table border=\"1\" class=\"dataframe\">\n",
       "  <thead>\n",
       "    <tr style=\"text-align: right;\">\n",
       "      <th></th>\n",
       "      <th>poi.name</th>\n",
       "      <th>poi.category</th>\n",
       "      <th>poi.hasCosts</th>\n",
       "    </tr>\n",
       "  </thead>\n",
       "  <tbody>\n",
       "    <tr>\n",
       "      <th>0</th>\n",
       "      <td>Le Passage</td>\n",
       "      <td>sleep</td>\n",
       "      <td>[]</td>\n",
       "    </tr>\n",
       "    <tr>\n",
       "      <th>1</th>\n",
       "      <td>Egyptian Museum</td>\n",
       "      <td>see</td>\n",
       "      <td>[]</td>\n",
       "    </tr>\n",
       "    <tr>\n",
       "      <th>2</th>\n",
       "      <td>Ibn Tulun</td>\n",
       "      <td>see</td>\n",
       "      <td>[]</td>\n",
       "    </tr>\n",
       "    <tr>\n",
       "      <th>3</th>\n",
       "      <td>Al-Azhar Park</td>\n",
       "      <td>see</td>\n",
       "      <td>[]</td>\n",
       "    </tr>\n",
       "    <tr>\n",
       "      <th>4</th>\n",
       "      <td>Khan El Khalily</td>\n",
       "      <td>see</td>\n",
       "      <td>[]</td>\n",
       "    </tr>\n",
       "    <tr>\n",
       "      <th>...</th>\n",
       "      <td>...</td>\n",
       "      <td>...</td>\n",
       "      <td>...</td>\n",
       "    </tr>\n",
       "    <tr>\n",
       "      <th>2930</th>\n",
       "      <td>Hyatt Regency Sharm El Sheikh</td>\n",
       "      <td>sleep</td>\n",
       "      <td>[]</td>\n",
       "    </tr>\n",
       "    <tr>\n",
       "      <th>2931</th>\n",
       "      <td>Noria Resort</td>\n",
       "      <td>sleep</td>\n",
       "      <td>[]</td>\n",
       "    </tr>\n",
       "    <tr>\n",
       "      <th>2932</th>\n",
       "      <td>Ritz Carlton</td>\n",
       "      <td>sleep</td>\n",
       "      <td>[]</td>\n",
       "    </tr>\n",
       "    <tr>\n",
       "      <th>2933</th>\n",
       "      <td>The Cleopatra Luxury Resort Collection</td>\n",
       "      <td>sleep</td>\n",
       "      <td>[]</td>\n",
       "    </tr>\n",
       "    <tr>\n",
       "      <th>2934</th>\n",
       "      <td>Jaz Mirabel Beach</td>\n",
       "      <td>sleep</td>\n",
       "      <td>[]</td>\n",
       "    </tr>\n",
       "  </tbody>\n",
       "</table>\n",
       "<p>2935 rows × 3 columns</p>\n",
       "</div>"
      ],
      "text/plain": [
       "                                    poi.name poi.category poi.hasCosts\n",
       "0                                 Le Passage        sleep           []\n",
       "1                            Egyptian Museum          see           []\n",
       "2                                  Ibn Tulun          see           []\n",
       "3                              Al-Azhar Park          see           []\n",
       "4                            Khan El Khalily          see           []\n",
       "...                                      ...          ...          ...\n",
       "2930           Hyatt Regency Sharm El Sheikh        sleep           []\n",
       "2931                            Noria Resort        sleep           []\n",
       "2932                            Ritz Carlton        sleep           []\n",
       "2933  The Cleopatra Luxury Resort Collection        sleep           []\n",
       "2934                       Jaz Mirabel Beach        sleep           []\n",
       "\n",
       "[2935 rows x 3 columns]"
      ]
     },
     "execution_count": 300,
     "metadata": {},
     "output_type": "execute_result"
    }
   ],
   "source": [
    "neo4j_query(query8, params = {\"rows\":money.to_dict('records')})"
   ]
  },
  {
   "cell_type": "markdown",
   "id": "78672884",
   "metadata": {},
   "source": [
    "### POIs additional relations"
   ]
  },
  {
   "cell_type": "markdown",
   "id": "e99321d3",
   "metadata": {},
   "source": [
    "### nearby_Facility Relation"
   ]
  },
  {
   "cell_type": "code",
   "execution_count": 303,
   "id": "12cfe616",
   "metadata": {},
   "outputs": [],
   "source": [
    "#Create Facility nodes\n",
    "query9 = (\"\"\"\n",
    "UNWIND $rows as row\n",
    "UNWIND row.ents as facility\n",
    "MERGE (fac:Facility {name:facility})\n",
    "RETURN count(distinct fac) as FacCount\n",
    "\"\"\")"
   ]
  },
  {
   "cell_type": "code",
   "execution_count": 304,
   "id": "f0d8eee3",
   "metadata": {},
   "outputs": [
    {
     "data": {
      "text/html": [
       "<div>\n",
       "<style scoped>\n",
       "    .dataframe tbody tr th:only-of-type {\n",
       "        vertical-align: middle;\n",
       "    }\n",
       "\n",
       "    .dataframe tbody tr th {\n",
       "        vertical-align: top;\n",
       "    }\n",
       "\n",
       "    .dataframe thead th {\n",
       "        text-align: right;\n",
       "    }\n",
       "</style>\n",
       "<table border=\"1\" class=\"dataframe\">\n",
       "  <thead>\n",
       "    <tr style=\"text-align: right;\">\n",
       "      <th></th>\n",
       "      <th>FacCount</th>\n",
       "    </tr>\n",
       "  </thead>\n",
       "  <tbody>\n",
       "    <tr>\n",
       "      <th>0</th>\n",
       "      <td>594</td>\n",
       "    </tr>\n",
       "  </tbody>\n",
       "</table>\n",
       "</div>"
      ],
      "text/plain": [
       "   FacCount\n",
       "0       594"
      ]
     },
     "execution_count": 304,
     "metadata": {},
     "output_type": "execute_result"
    }
   ],
   "source": [
    "neo4j_query(query9, params = {\"rows\":fac.to_dict('records')})"
   ]
  },
  {
   "cell_type": "code",
   "execution_count": 311,
   "id": "c3b346a8",
   "metadata": {},
   "outputs": [],
   "source": [
    "#Create nearby_Facility relation\n",
    "query10 = (\"\"\"\n",
    "UNWIND $rows as row\n",
    "MATCH (poi:POI {name:row.POI}) \n",
    "WITH poi, row\n",
    "UNWIND row.ents as facility\n",
    "MATCH (fac:Facility {name:facility})\n",
    "MERGE (poi)-[r3:nearby_Facility]->(fac)\n",
    "RETURN count(distinct r3) as R3Count\n",
    "\"\"\")"
   ]
  },
  {
   "cell_type": "code",
   "execution_count": 312,
   "id": "98bd67f6",
   "metadata": {},
   "outputs": [
    {
     "data": {
      "text/html": [
       "<div>\n",
       "<style scoped>\n",
       "    .dataframe tbody tr th:only-of-type {\n",
       "        vertical-align: middle;\n",
       "    }\n",
       "\n",
       "    .dataframe tbody tr th {\n",
       "        vertical-align: top;\n",
       "    }\n",
       "\n",
       "    .dataframe thead th {\n",
       "        text-align: right;\n",
       "    }\n",
       "</style>\n",
       "<table border=\"1\" class=\"dataframe\">\n",
       "  <thead>\n",
       "    <tr style=\"text-align: right;\">\n",
       "      <th></th>\n",
       "      <th>R3Count</th>\n",
       "    </tr>\n",
       "  </thead>\n",
       "  <tbody>\n",
       "    <tr>\n",
       "      <th>0</th>\n",
       "      <td>944</td>\n",
       "    </tr>\n",
       "  </tbody>\n",
       "</table>\n",
       "</div>"
      ],
      "text/plain": [
       "   R3Count\n",
       "0      944"
      ]
     },
     "execution_count": 312,
     "metadata": {},
     "output_type": "execute_result"
    }
   ],
   "source": [
    "neo4j_query(query10, params = {\"rows\":fac.to_dict('records')})"
   ]
  },
  {
   "cell_type": "markdown",
   "id": "c969c90d",
   "metadata": {},
   "source": [
    "### nearby_Touristic_Location Relation"
   ]
  },
  {
   "cell_type": "code",
   "execution_count": 314,
   "id": "064491cf",
   "metadata": {},
   "outputs": [],
   "source": [
    "#Create Location nodes\n",
    "query11 = (\"\"\"\n",
    "UNWIND $rows as row\n",
    "UNWIND row.ents as location\n",
    "MERGE (loc:Location {name:location})\n",
    "RETURN count(distinct loc) as LocCount\n",
    "\"\"\")"
   ]
  },
  {
   "cell_type": "code",
   "execution_count": 315,
   "id": "6e8b2e96",
   "metadata": {},
   "outputs": [
    {
     "data": {
      "text/html": [
       "<div>\n",
       "<style scoped>\n",
       "    .dataframe tbody tr th:only-of-type {\n",
       "        vertical-align: middle;\n",
       "    }\n",
       "\n",
       "    .dataframe tbody tr th {\n",
       "        vertical-align: top;\n",
       "    }\n",
       "\n",
       "    .dataframe thead th {\n",
       "        text-align: right;\n",
       "    }\n",
       "</style>\n",
       "<table border=\"1\" class=\"dataframe\">\n",
       "  <thead>\n",
       "    <tr style=\"text-align: right;\">\n",
       "      <th></th>\n",
       "      <th>LocCount</th>\n",
       "    </tr>\n",
       "  </thead>\n",
       "  <tbody>\n",
       "    <tr>\n",
       "      <th>0</th>\n",
       "      <td>311</td>\n",
       "    </tr>\n",
       "  </tbody>\n",
       "</table>\n",
       "</div>"
      ],
      "text/plain": [
       "   LocCount\n",
       "0       311"
      ]
     },
     "execution_count": 315,
     "metadata": {},
     "output_type": "execute_result"
    }
   ],
   "source": [
    "neo4j_query(query11, params = {\"rows\":loc.to_dict('records')})"
   ]
  },
  {
   "cell_type": "code",
   "execution_count": 318,
   "id": "ddcfb221",
   "metadata": {},
   "outputs": [],
   "source": [
    "#Create nearby_Touristic_Location relation\n",
    "query12 = (\"\"\"\n",
    "UNWIND $rows as row\n",
    "MATCH (poi:POI {name:row.POI}) \n",
    "WITH poi, row\n",
    "UNWIND row.ents as location\n",
    "MATCH (loc:Location {name:location})\n",
    "MERGE (poi)-[r4:nearby_Touristic_Location]->(loc)\n",
    "RETURN count(distinct r4) as R4Count\n",
    "\"\"\")"
   ]
  },
  {
   "cell_type": "code",
   "execution_count": 319,
   "id": "43adfb48",
   "metadata": {},
   "outputs": [
    {
     "data": {
      "text/html": [
       "<div>\n",
       "<style scoped>\n",
       "    .dataframe tbody tr th:only-of-type {\n",
       "        vertical-align: middle;\n",
       "    }\n",
       "\n",
       "    .dataframe tbody tr th {\n",
       "        vertical-align: top;\n",
       "    }\n",
       "\n",
       "    .dataframe thead th {\n",
       "        text-align: right;\n",
       "    }\n",
       "</style>\n",
       "<table border=\"1\" class=\"dataframe\">\n",
       "  <thead>\n",
       "    <tr style=\"text-align: right;\">\n",
       "      <th></th>\n",
       "      <th>R4Count</th>\n",
       "    </tr>\n",
       "  </thead>\n",
       "  <tbody>\n",
       "    <tr>\n",
       "      <th>0</th>\n",
       "      <td>718</td>\n",
       "    </tr>\n",
       "  </tbody>\n",
       "</table>\n",
       "</div>"
      ],
      "text/plain": [
       "   R4Count\n",
       "0      718"
      ]
     },
     "execution_count": 319,
     "metadata": {},
     "output_type": "execute_result"
    }
   ],
   "source": [
    "neo4j_query(query12, params = {\"rows\":loc.to_dict('records')})"
   ]
  },
  {
   "cell_type": "markdown",
   "id": "76d37b17",
   "metadata": {},
   "source": [
    "### related_Event Relation"
   ]
  },
  {
   "cell_type": "code",
   "execution_count": 320,
   "id": "e842cff0",
   "metadata": {},
   "outputs": [],
   "source": [
    "#Create Event nodes\n",
    "query13 = (\"\"\"\n",
    "UNWIND $rows as row\n",
    "UNWIND row.ents as event\n",
    "MERGE (eve:Event {name:event})\n",
    "RETURN count(distinct eve) as EventCount\n",
    "\"\"\")"
   ]
  },
  {
   "cell_type": "code",
   "execution_count": 321,
   "id": "3d490d61",
   "metadata": {},
   "outputs": [
    {
     "data": {
      "text/html": [
       "<div>\n",
       "<style scoped>\n",
       "    .dataframe tbody tr th:only-of-type {\n",
       "        vertical-align: middle;\n",
       "    }\n",
       "\n",
       "    .dataframe tbody tr th {\n",
       "        vertical-align: top;\n",
       "    }\n",
       "\n",
       "    .dataframe thead th {\n",
       "        text-align: right;\n",
       "    }\n",
       "</style>\n",
       "<table border=\"1\" class=\"dataframe\">\n",
       "  <thead>\n",
       "    <tr style=\"text-align: right;\">\n",
       "      <th></th>\n",
       "      <th>EventCount</th>\n",
       "    </tr>\n",
       "  </thead>\n",
       "  <tbody>\n",
       "    <tr>\n",
       "      <th>0</th>\n",
       "      <td>91</td>\n",
       "    </tr>\n",
       "  </tbody>\n",
       "</table>\n",
       "</div>"
      ],
      "text/plain": [
       "   EventCount\n",
       "0          91"
      ]
     },
     "execution_count": 321,
     "metadata": {},
     "output_type": "execute_result"
    }
   ],
   "source": [
    "neo4j_query(query13, params = {\"rows\":event.to_dict('records')})"
   ]
  },
  {
   "cell_type": "code",
   "execution_count": 322,
   "id": "44b9a3af",
   "metadata": {},
   "outputs": [],
   "source": [
    "#Create related_Event relation\n",
    "query14 = (\"\"\"\n",
    "UNWIND $rows as row\n",
    "MATCH (poi:POI {name:row.POI}) \n",
    "WITH poi, row\n",
    "UNWIND row.ents as event\n",
    "MATCH (eve:Event {name:event})\n",
    "MERGE (poi)-[r5:related_Event]->(eve)\n",
    "RETURN count(distinct r5) as R5Count\n",
    "\"\"\")"
   ]
  },
  {
   "cell_type": "code",
   "execution_count": 323,
   "id": "befd6a47",
   "metadata": {},
   "outputs": [
    {
     "data": {
      "text/html": [
       "<div>\n",
       "<style scoped>\n",
       "    .dataframe tbody tr th:only-of-type {\n",
       "        vertical-align: middle;\n",
       "    }\n",
       "\n",
       "    .dataframe tbody tr th {\n",
       "        vertical-align: top;\n",
       "    }\n",
       "\n",
       "    .dataframe thead th {\n",
       "        text-align: right;\n",
       "    }\n",
       "</style>\n",
       "<table border=\"1\" class=\"dataframe\">\n",
       "  <thead>\n",
       "    <tr style=\"text-align: right;\">\n",
       "      <th></th>\n",
       "      <th>R5Count</th>\n",
       "    </tr>\n",
       "  </thead>\n",
       "  <tbody>\n",
       "    <tr>\n",
       "      <th>0</th>\n",
       "      <td>112</td>\n",
       "    </tr>\n",
       "  </tbody>\n",
       "</table>\n",
       "</div>"
      ],
      "text/plain": [
       "   R5Count\n",
       "0      112"
      ]
     },
     "execution_count": 323,
     "metadata": {},
     "output_type": "execute_result"
    }
   ],
   "source": [
    "neo4j_query(query14, params = {\"rows\":event.to_dict('records')})"
   ]
  },
  {
   "cell_type": "markdown",
   "id": "c39aec2e",
   "metadata": {},
   "source": [
    "### nearby_Organization Relation"
   ]
  },
  {
   "cell_type": "code",
   "execution_count": 324,
   "id": "dfb0089f",
   "metadata": {},
   "outputs": [],
   "source": [
    "#Create Organization nodes\n",
    "query15 = (\"\"\"\n",
    "UNWIND $rows as row\n",
    "UNWIND row.ents as organization\n",
    "MERGE (org:Organization {name:organization})\n",
    "RETURN count(distinct org) as OrgCount\n",
    "\"\"\")"
   ]
  },
  {
   "cell_type": "code",
   "execution_count": 325,
   "id": "7265fe51",
   "metadata": {},
   "outputs": [
    {
     "data": {
      "text/html": [
       "<div>\n",
       "<style scoped>\n",
       "    .dataframe tbody tr th:only-of-type {\n",
       "        vertical-align: middle;\n",
       "    }\n",
       "\n",
       "    .dataframe tbody tr th {\n",
       "        vertical-align: top;\n",
       "    }\n",
       "\n",
       "    .dataframe thead th {\n",
       "        text-align: right;\n",
       "    }\n",
       "</style>\n",
       "<table border=\"1\" class=\"dataframe\">\n",
       "  <thead>\n",
       "    <tr style=\"text-align: right;\">\n",
       "      <th></th>\n",
       "      <th>OrgCount</th>\n",
       "    </tr>\n",
       "  </thead>\n",
       "  <tbody>\n",
       "    <tr>\n",
       "      <th>0</th>\n",
       "      <td>2229</td>\n",
       "    </tr>\n",
       "  </tbody>\n",
       "</table>\n",
       "</div>"
      ],
      "text/plain": [
       "   OrgCount\n",
       "0      2229"
      ]
     },
     "execution_count": 325,
     "metadata": {},
     "output_type": "execute_result"
    }
   ],
   "source": [
    "neo4j_query(query15, params = {\"rows\":org.to_dict('records')})"
   ]
  },
  {
   "cell_type": "code",
   "execution_count": 326,
   "id": "041e6b2d",
   "metadata": {},
   "outputs": [],
   "source": [
    "#Create nearby_Organization relation\n",
    "query16 = (\"\"\"\n",
    "UNWIND $rows as row\n",
    "MATCH (poi:POI {name:row.POI}) \n",
    "WITH poi, row\n",
    "UNWIND row.ents as organization\n",
    "MATCH (org:Organization {name:organization})\n",
    "MERGE (poi)-[r6:nearby_Organization]->(org)\n",
    "RETURN count(distinct r6) as R6Count\n",
    "\"\"\")"
   ]
  },
  {
   "cell_type": "code",
   "execution_count": 327,
   "id": "d52b6b5d",
   "metadata": {},
   "outputs": [
    {
     "data": {
      "text/html": [
       "<div>\n",
       "<style scoped>\n",
       "    .dataframe tbody tr th:only-of-type {\n",
       "        vertical-align: middle;\n",
       "    }\n",
       "\n",
       "    .dataframe tbody tr th {\n",
       "        vertical-align: top;\n",
       "    }\n",
       "\n",
       "    .dataframe thead th {\n",
       "        text-align: right;\n",
       "    }\n",
       "</style>\n",
       "<table border=\"1\" class=\"dataframe\">\n",
       "  <thead>\n",
       "    <tr style=\"text-align: right;\">\n",
       "      <th></th>\n",
       "      <th>R6Count</th>\n",
       "    </tr>\n",
       "  </thead>\n",
       "  <tbody>\n",
       "    <tr>\n",
       "      <th>0</th>\n",
       "      <td>2601</td>\n",
       "    </tr>\n",
       "  </tbody>\n",
       "</table>\n",
       "</div>"
      ],
      "text/plain": [
       "   R6Count\n",
       "0     2601"
      ]
     },
     "execution_count": 327,
     "metadata": {},
     "output_type": "execute_result"
    }
   ],
   "source": [
    "neo4j_query(query16, params = {\"rows\":org.to_dict('records')})"
   ]
  },
  {
   "cell_type": "markdown",
   "id": "8c085923",
   "metadata": {},
   "source": [
    "---"
   ]
  },
  {
   "cell_type": "markdown",
   "id": "39f68ee7",
   "metadata": {},
   "source": [
    "# Get Package Recommendation"
   ]
  },
  {
   "cell_type": "code",
   "execution_count": 132,
   "id": "ec50ac41",
   "metadata": {},
   "outputs": [
    {
     "data": {
      "text/html": [
       "<div>\n",
       "<style scoped>\n",
       "    .dataframe tbody tr th:only-of-type {\n",
       "        vertical-align: middle;\n",
       "    }\n",
       "\n",
       "    .dataframe tbody tr th {\n",
       "        vertical-align: top;\n",
       "    }\n",
       "\n",
       "    .dataframe thead th {\n",
       "        text-align: right;\n",
       "    }\n",
       "</style>\n",
       "<table border=\"1\" class=\"dataframe\">\n",
       "  <thead>\n",
       "    <tr style=\"text-align: right;\">\n",
       "      <th></th>\n",
       "      <th>poi.name</th>\n",
       "      <th>poi.category</th>\n",
       "      <th>ci.name</th>\n",
       "      <th>co.name</th>\n",
       "    </tr>\n",
       "  </thead>\n",
       "  <tbody>\n",
       "    <tr>\n",
       "      <th>0</th>\n",
       "      <td>Cairo Opera House</td>\n",
       "      <td>do</td>\n",
       "      <td>Cairo</td>\n",
       "      <td>Egypt</td>\n",
       "    </tr>\n",
       "    <tr>\n",
       "      <th>1</th>\n",
       "      <td>Cairo Jazz Club</td>\n",
       "      <td>do</td>\n",
       "      <td>Cairo</td>\n",
       "      <td>Egypt</td>\n",
       "    </tr>\n",
       "    <tr>\n",
       "      <th>2</th>\n",
       "      <td>Mohammed Mahmoud Khalil Museum</td>\n",
       "      <td>see</td>\n",
       "      <td>Cairo</td>\n",
       "      <td>Egypt</td>\n",
       "    </tr>\n",
       "    <tr>\n",
       "      <th>3</th>\n",
       "      <td>Tahrir Cinema</td>\n",
       "      <td>do</td>\n",
       "      <td>Cairo</td>\n",
       "      <td>Egypt</td>\n",
       "    </tr>\n",
       "    <tr>\n",
       "      <th>4</th>\n",
       "      <td>Best Buy - Apple Center</td>\n",
       "      <td>buy</td>\n",
       "      <td>Cairo</td>\n",
       "      <td>Egypt</td>\n",
       "    </tr>\n",
       "  </tbody>\n",
       "</table>\n",
       "</div>"
      ],
      "text/plain": [
       "                         poi.name poi.category ci.name co.name\n",
       "0               Cairo Opera House           do   Cairo   Egypt\n",
       "1                 Cairo Jazz Club           do   Cairo   Egypt\n",
       "2  Mohammed Mahmoud Khalil Museum          see   Cairo   Egypt\n",
       "3                   Tahrir Cinema           do   Cairo   Egypt\n",
       "4         Best Buy - Apple Center          buy   Cairo   Egypt"
      ]
     },
     "execution_count": 132,
     "metadata": {},
     "output_type": "execute_result"
    }
   ],
   "source": [
    "#Query Knowledge Graph\n",
    "res = neo4j_query(\"\"\"\n",
    "MATCH (poi:POI) \n",
    "MATCH (ci:City)\n",
    "MATCH (co:Country)\n",
    "RETURN poi.name, poi.category, ci.name, co.name\n",
    "\"\"\")\n",
    "res.head()"
   ]
  },
  {
   "cell_type": "code",
   "execution_count": null,
   "id": "ca3392fa",
   "metadata": {},
   "outputs": [],
   "source": [
    "# MATCH (a:User {username: 'user6'})-[r]-(b)\n",
    "# RETURN r, a, b"
   ]
  },
  {
   "cell_type": "code",
   "execution_count": 331,
   "id": "28a544ca",
   "metadata": {},
   "outputs": [
    {
     "data": {
      "text/html": [
       "<div>\n",
       "<style scoped>\n",
       "    .dataframe tbody tr th:only-of-type {\n",
       "        vertical-align: middle;\n",
       "    }\n",
       "\n",
       "    .dataframe tbody tr th {\n",
       "        vertical-align: top;\n",
       "    }\n",
       "\n",
       "    .dataframe thead th {\n",
       "        text-align: right;\n",
       "    }\n",
       "</style>\n",
       "<table border=\"1\" class=\"dataframe\">\n",
       "  <thead>\n",
       "    <tr style=\"text-align: right;\">\n",
       "      <th></th>\n",
       "      <th>r</th>\n",
       "      <th>poi</th>\n",
       "      <th>b</th>\n",
       "    </tr>\n",
       "  </thead>\n",
       "  <tbody>\n",
       "    <tr>\n",
       "      <th>0</th>\n",
       "      <td>()</td>\n",
       "      <td>(name, description, relatedDates, hasCosts, ca...</td>\n",
       "      <td>(name)</td>\n",
       "    </tr>\n",
       "    <tr>\n",
       "      <th>1</th>\n",
       "      <td>()</td>\n",
       "      <td>(name, description, relatedDates, hasCosts, ca...</td>\n",
       "      <td>(name)</td>\n",
       "    </tr>\n",
       "    <tr>\n",
       "      <th>2</th>\n",
       "      <td>()</td>\n",
       "      <td>(name, description, relatedDates, hasCosts, ca...</td>\n",
       "      <td>(name)</td>\n",
       "    </tr>\n",
       "    <tr>\n",
       "      <th>3</th>\n",
       "      <td>()</td>\n",
       "      <td>(name, description, hasCosts, relatedDates, ca...</td>\n",
       "      <td>(name)</td>\n",
       "    </tr>\n",
       "    <tr>\n",
       "      <th>4</th>\n",
       "      <td>()</td>\n",
       "      <td>(name, description, hasCosts, relatedDates, ca...</td>\n",
       "      <td>(name)</td>\n",
       "    </tr>\n",
       "  </tbody>\n",
       "</table>\n",
       "</div>"
      ],
      "text/plain": [
       "    r                                                poi       b\n",
       "0  ()  (name, description, relatedDates, hasCosts, ca...  (name)\n",
       "1  ()  (name, description, relatedDates, hasCosts, ca...  (name)\n",
       "2  ()  (name, description, relatedDates, hasCosts, ca...  (name)\n",
       "3  ()  (name, description, hasCosts, relatedDates, ca...  (name)\n",
       "4  ()  (name, description, hasCosts, relatedDates, ca...  (name)"
      ]
     },
     "execution_count": 331,
     "metadata": {},
     "output_type": "execute_result"
    }
   ],
   "source": [
    "#Query Knowledge Graph\n",
    "res1 = neo4j_query(\"\"\"\n",
    "MATCH (poi:POI)-[r]-(b) \n",
    "MATCH (ci:City)\n",
    "WHERE poi.category = $Category AND ci.name = $City\n",
    "RETURN r, poi, b \n",
    "\"\"\", params = {\"City\":\"Cairo\", \"Category\":\"eat\"})\n",
    "res1.head()"
   ]
  },
  {
   "cell_type": "code",
   "execution_count": 332,
   "id": "e4c2b8c6",
   "metadata": {},
   "outputs": [
    {
     "data": {
      "text/plain": [
       "eat      618\n",
       "see      540\n",
       "sleep    508\n",
       "buy      494\n",
       "do       325\n",
       "drink    254\n",
       "other    189\n",
       "go         7\n",
       "Name: Category, dtype: int64"
      ]
     },
     "execution_count": 332,
     "metadata": {},
     "output_type": "execute_result"
    }
   ],
   "source": [
    "data_mini[\"Category\"].value_counts()"
   ]
  },
  {
   "cell_type": "code",
   "execution_count": 343,
   "id": "2747b60c",
   "metadata": {},
   "outputs": [
    {
     "data": {
      "text/html": [
       "<div>\n",
       "<style scoped>\n",
       "    .dataframe tbody tr th:only-of-type {\n",
       "        vertical-align: middle;\n",
       "    }\n",
       "\n",
       "    .dataframe tbody tr th {\n",
       "        vertical-align: top;\n",
       "    }\n",
       "\n",
       "    .dataframe thead th {\n",
       "        text-align: right;\n",
       "    }\n",
       "</style>\n",
       "<table border=\"1\" class=\"dataframe\">\n",
       "  <thead>\n",
       "    <tr style=\"text-align: right;\">\n",
       "      <th></th>\n",
       "      <th>Food_Locations</th>\n",
       "      <th>Drink_Locations</th>\n",
       "    </tr>\n",
       "  </thead>\n",
       "  <tbody>\n",
       "    <tr>\n",
       "      <th>0</th>\n",
       "      <td>[Al Omda, Gad, Chocofolie]</td>\n",
       "      <td>[Stiletto Lounge, Bursa, Tawfiqiyya Souq]</td>\n",
       "    </tr>\n",
       "  </tbody>\n",
       "</table>\n",
       "</div>"
      ],
      "text/plain": [
       "               Food_Locations                            Drink_Locations\n",
       "0  [Al Omda, Gad, Chocofolie]  [Stiletto Lounge, Bursa, Tawfiqiyya Souq]"
      ]
     },
     "execution_count": 343,
     "metadata": {},
     "output_type": "execute_result"
    }
   ],
   "source": [
    "#Query Knowledge Graph\n",
    "neo4j_query(\"\"\"\n",
    "MATCH (ci:City)\n",
    "MATCH (poi:POI) \n",
    "WHERE ci.name = $City AND poi.category = $Category1\n",
    "WITH ci, collect(poi.name)[0..3] as Food_Locations\n",
    "MATCH (poi:POI)\n",
    "WHERE ci.name = $City AND poi.category = $Category2 \n",
    "RETURN Food_Locations, collect(poi.name)[0..3] as Drink_Locations\n",
    "\"\"\", params = {\"City\":\"Cairo\", \"Category1\":\"eat\", \"Category2\":\"drink\", \"Category3\":\"see\", \"Category4\":\"sleep\"})"
   ]
  },
  {
   "cell_type": "code",
   "execution_count": 348,
   "id": "7c4e79bf",
   "metadata": {},
   "outputs": [
    {
     "data": {
      "text/html": [
       "<div>\n",
       "<style scoped>\n",
       "    .dataframe tbody tr th:only-of-type {\n",
       "        vertical-align: middle;\n",
       "    }\n",
       "\n",
       "    .dataframe tbody tr th {\n",
       "        vertical-align: top;\n",
       "    }\n",
       "\n",
       "    .dataframe thead th {\n",
       "        text-align: right;\n",
       "    }\n",
       "</style>\n",
       "<table border=\"1\" class=\"dataframe\">\n",
       "  <thead>\n",
       "    <tr style=\"text-align: right;\">\n",
       "      <th></th>\n",
       "      <th>Food_Locations</th>\n",
       "      <th>Drinks_Locations</th>\n",
       "      <th>Sight_Seeing_Locations</th>\n",
       "      <th>Accomodations</th>\n",
       "    </tr>\n",
       "  </thead>\n",
       "  <tbody>\n",
       "    <tr>\n",
       "      <th>0</th>\n",
       "      <td>[Al Omda, Gad, Chocofolie]</td>\n",
       "      <td>[Stiletto Lounge, Bursa, Tawfiqiyya Souq]</td>\n",
       "      <td>[Egyptian Museum, Ibn Tulun, Al-Azhar Park]</td>\n",
       "      <td>[Le Passage, Concorde Hotel, Havana Hotel]</td>\n",
       "    </tr>\n",
       "  </tbody>\n",
       "</table>\n",
       "</div>"
      ],
      "text/plain": [
       "               Food_Locations                           Drinks_Locations  \\\n",
       "0  [Al Omda, Gad, Chocofolie]  [Stiletto Lounge, Bursa, Tawfiqiyya Souq]   \n",
       "\n",
       "                        Sight_Seeing_Locations  \\\n",
       "0  [Egyptian Museum, Ibn Tulun, Al-Azhar Park]   \n",
       "\n",
       "                                Accomodations  \n",
       "0  [Le Passage, Concorde Hotel, Havana Hotel]  "
      ]
     },
     "execution_count": 348,
     "metadata": {},
     "output_type": "execute_result"
    }
   ],
   "source": [
    "#Get a single day trip plan\n",
    "neo4j_query(\"\"\"\n",
    "MATCH (ci:City)\n",
    "MATCH (poi:POI) \n",
    "WHERE ci.name = $City AND poi.category = $Category1\n",
    "WITH ci, collect(poi.name)[0..3] as Food_Locations\n",
    "\n",
    "MATCH (poi:POI)\n",
    "WHERE ci.name = $City AND poi.category = $Category2 \n",
    "WITH ci, Food_Locations, collect(poi.name)[0..3] as Drinks_Locations\n",
    "\n",
    "MATCH (poi:POI)\n",
    "WHERE ci.name = $City AND poi.category = $Category3 \n",
    "WITH ci, Food_Locations, Drinks_Locations, collect(poi.name)[0..3] as Sight_Seeing_Locations\n",
    "\n",
    "MATCH (poi:POI)\n",
    "WHERE ci.name = $City AND poi.category = $Category4 \n",
    "\n",
    "RETURN Food_Locations, Drinks_Locations, Sight_Seeing_Locations, collect(poi.name)[0..3] as Accomodations\n",
    "\"\"\", params = {\"City\":\"Cairo\", \"Category1\":\"eat\", \"Category2\":\"drink\", \"Category3\":\"see\", \"Category4\":\"sleep\"})"
   ]
  },
  {
   "cell_type": "code",
   "execution_count": 19,
   "id": "9579f573",
   "metadata": {},
   "outputs": [
    {
     "data": {
      "text/html": [
       "<div>\n",
       "<style scoped>\n",
       "    .dataframe tbody tr th:only-of-type {\n",
       "        vertical-align: middle;\n",
       "    }\n",
       "\n",
       "    .dataframe tbody tr th {\n",
       "        vertical-align: top;\n",
       "    }\n",
       "\n",
       "    .dataframe thead th {\n",
       "        text-align: right;\n",
       "    }\n",
       "</style>\n",
       "<table border=\"1\" class=\"dataframe\">\n",
       "  <thead>\n",
       "    <tr style=\"text-align: right;\">\n",
       "      <th></th>\n",
       "      <th>Alex_Touristic_Locations</th>\n",
       "      <th>Alex_Accommodations</th>\n",
       "      <th>Dubai_Touristic_Locations</th>\n",
       "      <th>Dubai_Accomodations</th>\n",
       "    </tr>\n",
       "  </thead>\n",
       "  <tbody>\n",
       "    <tr>\n",
       "      <th>0</th>\n",
       "      <td>[Cemetery of Mostafa Kamel, Kom el-Shouqafa, B...</td>\n",
       "      <td>[Helnan Palestine]</td>\n",
       "      <td>[Jumeirah Beach, Bastakiya District, Dubai Int...</td>\n",
       "      <td>[Raffles Dubai]</td>\n",
       "    </tr>\n",
       "  </tbody>\n",
       "</table>\n",
       "</div>"
      ],
      "text/plain": [
       "                            Alex_Touristic_Locations Alex_Accommodations  \\\n",
       "0  [Cemetery of Mostafa Kamel, Kom el-Shouqafa, B...  [Helnan Palestine]   \n",
       "\n",
       "                           Dubai_Touristic_Locations Dubai_Accomodations  \n",
       "0  [Jumeirah Beach, Bastakiya District, Dubai Int...     [Raffles Dubai]  "
      ]
     },
     "execution_count": 19,
     "metadata": {},
     "output_type": "execute_result"
    }
   ],
   "source": [
    "#Get a multiday trip plan\n",
    "neo4j_query(\"\"\"\n",
    "MATCH (poi:POI)-[]->(ci:City) \n",
    "WHERE ci.name = $City1 AND poi.category = $Category1\n",
    "WITH ci, collect(poi.name)[0..4] as Alex_Touristic_Locations\n",
    "\n",
    "MATCH (poi:POI)-[]->(ci:City)\n",
    "WHERE ci.name = $City1 AND poi.category = $Category11 \n",
    "WITH Alex_Touristic_Locations, collect(poi.name)[0..1] as Alex_Accommodations\n",
    "\n",
    "MATCH (poi:POI)-[]->(ci:City) \n",
    "WHERE ci.name = $City2 AND poi.category = $Category2 \n",
    "WITH ci, Alex_Touristic_Locations, Alex_Accommodations, collect(poi.name)[0..4] as Dubai_Touristic_Locations\n",
    "\n",
    "MATCH (poi:POI)-[]->(ci:City)\n",
    "WHERE ci.name = $City2 AND poi.category = $Category21 \n",
    "\n",
    "RETURN Alex_Touristic_Locations, Alex_Accommodations, Dubai_Touristic_Locations, collect(poi.name)[0..1] as Dubai_Accomodations\n",
    "\"\"\", params = {\"City1\":\"Alexandria\", \"Category1\":\"see\", \"Category11\":\"sleep\",\"City2\":\"Dubai\", \"Category2\":\"see\", \"Category21\":\"sleep\"})"
   ]
  },
  {
   "cell_type": "code",
   "execution_count": null,
   "id": "ae38d6d3",
   "metadata": {},
   "outputs": [],
   "source": []
  }
 ],
 "metadata": {
  "kernelspec": {
   "display_name": "Pytorch-GPU-CUDA11.3",
   "language": "python",
   "name": "pytorch-gpu-cuda11.3"
  },
  "language_info": {
   "codemirror_mode": {
    "name": "ipython",
    "version": 3
   },
   "file_extension": ".py",
   "mimetype": "text/x-python",
   "name": "python",
   "nbconvert_exporter": "python",
   "pygments_lexer": "ipython3",
   "version": "3.8.13"
  }
 },
 "nbformat": 4,
 "nbformat_minor": 5
}
